{
 "metadata": {
  "name": "",
  "signature": "sha256:808b795e50e41e99be9631b2ae7e7113cbf745f45b630ab2556c82e1bdb3fe3e"
 },
 "nbformat": 3,
 "nbformat_minor": 0,
 "worksheets": [
  {
   "cells": [
    {
     "cell_type": "heading",
     "level": 1,
     "metadata": {},
     "source": [
      "How to Use the RESTful Microbial Communities API in Python\u00b6"
     ]
    },
    {
     "cell_type": "markdown",
     "metadata": {},
     "source": [
      "Using the RESTful API is one way to access and query KBase. The Microbial Communities API facilitates data access and retrieval of metagenomic data. The API is based on web technology (http) which means that you can construct URLs and use them in your browser. Data returned by the API is in JSON format. For many browsers, a plugin exists to render the returned JSON data structure more easily readable. In addition, many programming languages support JSON and provide functionalities to transform JSON into internal data structures or vice versa.\n",
      "\n",
      "In the following Narrative, we will demonstrate how to use the RESTful Microbial Communities API in Python."
     ]
    },
    {
     "cell_type": "heading",
     "level": 2,
     "metadata": {},
     "source": [
      "Introduction"
     ]
    },
    {
     "cell_type": "markdown",
     "metadata": {},
     "source": [
      "Accessing the API is as easy as accessing a web page. The base URL <a href=\"http://kbase.us/services/communities\" target=\"_blank\"> http://kbase.us/services/communities</a> is the stable part of the URL and if invocted, returns a list of available resources (or functions):\n",
      "\n",
      "<ul>\n",
      "    <li>project\n",
      "    <li>sample\n",
      "    <li>library\n",
      "    <li>metagenome\n",
      "    <li>profile\n",
      "    <li>annotation\n",
      "    <li>download\n",
      "    <li>compute\n",
      "    <li>inbox\n",
      "    <li>M5NR\n",
      "    <li>matrix\n",
      "    <li>metadata\n",
      "    <li>validation\n",
      "</ul>            \n",
      "For more documentation, please see the Microbial Communities API Overview, available <a href=\"http://kbase.us/services/communities/api.html\" target=\"_blank\">here</a>.\n"
     ]
    },
    {
     "cell_type": "heading",
     "level": 2,
     "metadata": {},
     "source": [
      "Example"
     ]
    },
    {
     "cell_type": "markdown",
     "metadata": {},
     "source": [
      "In this example, we will cover how to search projects with samples from soil, and retrieve abundance data for one sample."
     ]
    },
    {
     "cell_type": "markdown",
     "metadata": {},
     "source": [
      "In order to do this, we have to:\n",
      "\n",
      "   1. Use the communities API, especially the project and metagenome resource\n",
      "   2. Define functions to communicate with the service\n",
      "   3. Search for samples from soil\n",
      "   4. Retrieve taxonomic abundancies for a sample"
     ]
    },
    {
     "cell_type": "markdown",
     "metadata": {},
     "source": [
      "We will begin by importing modules. These are required to use the http protocol and transform JSON structures into programming language specific data structures."
     ]
    },
    {
     "cell_type": "code",
     "collapsed": false,
     "input": [
      "# Basic Python modules for http and json encoding/decoding\n",
      "import urllib2\n",
      "import json"
     ],
     "language": "python",
     "metadata": {},
     "outputs": [],
     "prompt_number": 3
    },
    {
     "cell_type": "markdown",
     "metadata": {},
     "source": [
      "Next, we will set the base URL to retrieve metagenomes. The return structure is in JSON. The service can be accessed through the following URL: <a href=\"http://kbase.us/services/communities\" target=\"_blank\">http://kbase.us/services/communities</a>"
     ]
    },
    {
     "cell_type": "code",
     "collapsed": false,
     "input": [
      "base = 'http://kbase.us/services/communities'"
     ],
     "language": "python",
     "metadata": {},
     "outputs": [],
     "prompt_number": 4
    },
    {
     "cell_type": "markdown",
     "metadata": {},
     "source": [
      "Now, we will define convenience functions. This is done so that we don't have to repeat the same lines.\n",
      "\n",
      "<ul>\n",
      "<li> <code>retrieve_data()</code> is a generic function retrieving JSON from a given URL and transforming the JSON into a Python data structure\n",
      "<li> <code>get_metagenome()</code> is a function to query the metagenome resource; it makes use of the generic <code>retrieve_data()</code> function\n",
      "</ul>"
     ]
    },
    {
     "cell_type": "code",
     "collapsed": false,
     "input": [
      "# Create a http request and return data\n",
      "# Input is a resource name, e.g. metagenome, and an option string\n",
      "# Returns a Python data structure derived from the loaded json \n",
      "\n",
      "def retrieve_data( resource,options ):\n",
      "    # Build query url\n",
      "    if resource :\n",
      "        url = base + \"/\" + resource \n",
      "    if options :\n",
      "        url = url + \"/\" +options\n",
      "    print \"Query \" + url + \"\\n\"\n",
      "    # Request data from url\n",
      "    response = urllib2.urlopen(url)\n",
      "    # Read response and decode json\n",
      "    text = response.read()\n",
      "    data = json.loads(text)\n",
      "    return data\n",
      "    \n",
      "    "
     ],
     "language": "python",
     "metadata": {},
     "outputs": [],
     "prompt_number": 5
    },
    {
     "cell_type": "code",
     "collapsed": false,
     "input": [
      "def get_metagenomes( options ) :\n",
      "    if not options :\n",
      "        options = \"?limit=100\"\n",
      "    tmp = retrieve_data('metagenome' , options)\n",
      "    # expecting a list of metagenomes , the list is defined in the data block of the returned data structure\n",
      "    return tmp['data']"
     ],
     "language": "python",
     "metadata": {},
     "outputs": [],
     "prompt_number": 6
    },
    {
     "cell_type": "code",
     "collapsed": false,
     "input": [
      "def get_metagenome( id , options ) :\n",
      "    if not options :\n",
      "        options = \"?limit=100\"\n",
      "    if id :\n",
      "        options = id + \"/\" + options\n",
      "    mg = retrieve_data('metagenome' , options) \n",
      "    return mg\n"
     ],
     "language": "python",
     "metadata": {},
     "outputs": [],
     "prompt_number": 7
    },
    {
     "cell_type": "markdown",
     "metadata": {},
     "source": [
      "Here, we will use the get_metagenomes and get_metagenome function. We will retrieve 100 metagenome IDs, but only print the first 9 metagenomes <br>(see \"<code>for m in myMetagenomeList[0:9]</code>\")."
     ]
    },
    {
     "cell_type": "code",
     "collapsed": false,
     "input": [
      "myMetagenomeList = get_metagenomes('')\n",
      "\n",
      "for m in myMetagenomeList[0:9] :\n",
      "    print m['id']"
     ],
     "language": "python",
     "metadata": {},
     "outputs": [
      {
       "output_type": "stream",
       "stream": "stdout",
       "text": [
        "Query http://kbase.us/services/communities/metagenome/?limit=100\n",
        "\n",
        "mgm4440026.3"
       ]
      },
      {
       "output_type": "stream",
       "stream": "stdout",
       "text": [
        "\n",
        "mgm4440036.3\n",
        "mgm4440037.3\n",
        "mgm4440038.3\n",
        "mgm4440039.3\n",
        "mgm4440040.3\n",
        "mgm4440041.3\n",
        "mgm4440051.3\n",
        "mgm4440052.3\n"
       ]
      }
     ],
     "prompt_number": 8
    },
    {
     "cell_type": "markdown",
     "metadata": {},
     "source": [
      "Let's pick an ID from the list above. For this example, let's choose mgm4440026.3. The <code>get_metagenome</code> function retrieves data for this ID."
     ]
    },
    {
     "cell_type": "code",
     "collapsed": false,
     "input": [
      "myMetagenome = get_metagenome('mgm4440026.3','')\n",
      "\n",
      "print myMetagenome"
     ],
     "language": "python",
     "metadata": {},
     "outputs": [
      {
       "output_type": "stream",
       "stream": "stdout",
       "text": [
        "Query http://kbase.us/services/communities/metagenome/mgm4440026.3/?limit=100\n",
        "\n",
        "{u'status': u'public', u'sample': [u'mgs12326', u'http://kbase.us/services/communities/sample/mgs12326'], u'name': u'CFLungPat001Rep1SDVir20060505', u'created': u'2007-04-27 14:47:11', u'url': u'http://kbase.us/services/communities/metagenome/mgm4440026.3?verbosity=minimal', u'pipeline_parameters': {u'bowtie': u'yes', u'screen_indexes': u'h_sapiens_asm', u'm5nr_annotation_version': u'1', u'filter_ln': u'yes', u'filter_ambig': u'yes', u'file_type': u'fna', u'm5nr_sims_version': u'7', u'aa_pid': u'90', u'max_ambig': u'5', u'm5rna_sims_version': u'7', u'filter_ln_mult': u'2.0', u'rna_pid': u'97', u'prefix_length': u'50', u'fgs_type': u'454', u'm5rna_annotation_version': u'1', u'assembled': u'no', u'dereplicate': u'yes'}, u'library': [u'mgl43388', u'http://kbase.us/services/communities/library/mgl43388'], u'sequence_type': u'WGS', u'project': [u'mgp31', u'http://kbase.us/services/communities/project/mgp31'], u'version': 1, u'pipeline_version': u'3.0', u'id': u'mgm4440026.3'}"
       ]
      },
      {
       "output_type": "stream",
       "stream": "stdout",
       "text": [
        "\n"
       ]
      }
     ],
     "prompt_number": 9
    },
    {
     "cell_type": "markdown",
     "metadata": {},
     "source": [
      "We want to be able to easily read the returned results. In order to make the returned data structure more easily understood, we will use a Python library for printing (pprint)."
     ]
    },
    {
     "cell_type": "code",
     "collapsed": false,
     "input": [
      "import pprint\n",
      "pprint.pprint(myMetagenome)"
     ],
     "language": "python",
     "metadata": {},
     "outputs": [
      {
       "output_type": "stream",
       "stream": "stdout",
       "text": [
        "{u'created': u'2007-04-27 14:47:11',\n",
        " u'id': u'mgm4440026.3',\n",
        " u'library': [u'mgl43388',\n",
        "              u'http://kbase.us/services/communities/library/mgl43388'],\n",
        " u'name': u'CFLungPat001Rep1SDVir20060505',\n",
        " u'pipeline_parameters': {u'aa_pid': u'90',\n",
        "                          u'assembled': u'no',\n",
        "                          u'bowtie': u'yes',\n",
        "                          u'dereplicate': u'yes',\n",
        "                          u'fgs_type': u'454',\n",
        "                          u'file_type': u'fna',\n",
        "                          u'filter_ambig': u'yes',\n",
        "                          u'filter_ln': u'yes',\n",
        "                          u'filter_ln_mult': u'2.0',\n",
        "                          u'm5nr_annotation_version': u'1',\n",
        "                          u'm5nr_sims_version': u'7',\n",
        "                          u'm5rna_annotation_version': u'1',\n",
        "                          u'm5rna_sims_version': u'7',\n",
        "                          u'max_ambig': u'5',\n",
        "                          u'prefix_length': u'50',\n",
        "                          u'rna_pid': u'97',\n",
        "                          u'screen_indexes': u'h_sapiens_asm'},\n",
        " u'pipeline_version': u'3.0',\n",
        " u'project': [u'mgp31', u'http://kbase.us/services/communities/project/mgp31'],\n",
        " u'sample': [u'mgs12326',\n",
        "             u'http://kbase.us/services/communities/sample/mgs12326'],\n",
        " u'sequence_type': u'WGS',\n",
        " u'status': u'public',\n",
        " u'url': u'http://kbase.us/services/communities/metagenome/mgm4440026.3?verbosity=minimal',\n",
        " u'version': 1}\n"
       ]
      }
     ],
     "prompt_number": 10
    },
    {
     "cell_type": "heading",
     "level": 2,
     "metadata": {},
     "source": [
      "Searching for Metagenomes\u00b6"
     ]
    },
    {
     "cell_type": "markdown",
     "metadata": {},
     "source": [
      "Information you need to construct your search:\n",
      "\n",
      "<table border=''>\n",
      "<tr><td>Base URL <td> http://kbase.us/services/communities/ </tr>\n",
      "<tr><td>Resource <td> metagenome </tr>\n",
      "<tr><td>Options<td>biome=soil and limit=10</tr>\n",
      "<tr><td>Result <td> List of metagenomes </tr>\n",
      "</table>"
     ]
    },
    {
     "cell_type": "markdown",
     "metadata": {},
     "source": [
      "We will reduce the number of returned search results using limit. In this example, if more than 10 metagenomes from soil are found, only the first 10 are returned."
     ]
    },
    {
     "cell_type": "code",
     "collapsed": false,
     "input": [
      "# Base url is already defined, see top of the document\n",
      "resource = 'metagenome'\n",
      "options  = 'biome=soil&limit=10'\n",
      "\n",
      "# Build query URL\n",
      "url     = base + \"/\" + resource + \"?\" + options\n",
      "\n",
      "print \"Query URL: \" + url + \"\\n\"\n",
      "    \n",
      "response = urllib2.urlopen(url)\n",
      "text = response.read()\n",
      "mlist = json.loads(text)\n",
      "\n",
      "# you can uncomment one of lines below to see how the data structure looks like,\n",
      "# print mlist\n",
      "# pprint.pprint(mlist)\n",
      "\n",
      "# Print \n",
      "print \"# found:\\t\\t\" +  str( mlist['total_count'] )\n",
      "print \"# this batch:\\t\" + str(len(mlist['data']))\n",
      "print \"Previous batch:\\t\" + str(mlist['prev'])\n",
      "print \"Next batch:\\t\" + str(mlist['next'])"
     ],
     "language": "python",
     "metadata": {},
     "outputs": [
      {
       "output_type": "stream",
       "stream": "stdout",
       "text": [
        "Query URL: http://kbase.us/services/communities/metagenome?biome=soil&limit=10\n",
        "\n",
        "# found:\t\t244"
       ]
      },
      {
       "output_type": "stream",
       "stream": "stdout",
       "text": [
        "\n",
        "# this batch:\t10\n",
        "Previous batch:\tNone\n",
        "Next batch:\thttp://kbase.us/services/communities/metagenome?biome=soil&limit=10&verbosity=minimal&order=id&direction=asc&match=all&status=both&offset=10\n"
       ]
      }
     ],
     "prompt_number": 12
    },
    {
     "cell_type": "markdown",
     "metadata": {},
     "source": [
      "Here, we will print out the list of IDs and metagenome names."
     ]
    },
    {
     "cell_type": "code",
     "collapsed": false,
     "input": [
      "for metagenome in mlist['data'] :  \n",
      "    print metagenome['id'] , '\\t' , metagenome['name'] "
     ],
     "language": "python",
     "metadata": {},
     "outputs": [
      {
       "output_type": "stream",
       "stream": "stdout",
       "text": [
        "mgm4441091.3 \tWaseca Farm Soil\n",
        "mgm4443231.3 \tA\n",
        "mgm4443232.3 \t2M\n",
        "mgm4445990.3 \tNTS_creosote.ele.1\n",
        "mgm4445993.3 \tNTS_crust.amb.1\n",
        "mgm4445994.3 \tNTS_crust.ele.2\n",
        "mgm4445996.3 \tNTS_creosote.amb.1\n",
        "mgm4446153.3 \tLuquillo Experimental Forest Soil, Puerto Rico\n",
        "mgm4447277.3 \tHigh Andean Forest Soil\n",
        "mgm4449125.3 \tComposite\n"
       ]
      }
     ],
     "prompt_number": 13
    },
    {
     "cell_type": "markdown",
     "metadata": {},
     "source": [
      "Now, let's link to a landing page for metagenomes. The base URL for metagenome landing pages is: http://metagenomics.anl.gov/linkin.cgi?metagenome=$metagenomeID\n",
      "\n",
      "(where $metagenomeID is the ID you provide for your metagenome of interest)"
     ]
    },
    {
     "cell_type": "code",
     "collapsed": false,
     "input": [
      "landingPageURL='http://metagenomics.anl.gov/linkin.cgi?metagenome='\n",
      "\n",
      "for metagenome in mlist['data'] :  \n",
      "    print metagenome['id'] , \"\\t\" , metagenome['name'][0:20] , \"\\t\" ,  landingPageURL + metagenome['id'] "
     ],
     "language": "python",
     "metadata": {},
     "outputs": [
      {
       "output_type": "stream",
       "stream": "stdout",
       "text": [
        "mgm4441091.3 \tWaseca Farm Soil \thttp://metagenomics.anl.gov/linkin.cgi?metagenome=mgm4441091.3\n",
        "mgm4443231.3 \tA \thttp://metagenomics.anl.gov/linkin.cgi?metagenome=mgm4443231.3\n",
        "mgm4443232.3 \t2M \thttp://metagenomics.anl.gov/linkin.cgi?metagenome=mgm4443232.3\n",
        "mgm4445990.3 \tNTS_creosote.ele.1 \thttp://metagenomics.anl.gov/linkin.cgi?metagenome=mgm4445990.3\n",
        "mgm4445993.3 \tNTS_crust.amb.1 \thttp://metagenomics.anl.gov/linkin.cgi?metagenome=mgm4445993.3\n",
        "mgm4445994.3 \tNTS_crust.ele.2 \thttp://metagenomics.anl.gov/linkin.cgi?metagenome=mgm4445994.3\n",
        "mgm4445996.3 \tNTS_creosote.amb.1 \thttp://metagenomics.anl.gov/linkin.cgi?metagenome=mgm4445996.3\n",
        "mgm4446153.3 \tLuquillo Experimenta \thttp://metagenomics.anl.gov/linkin.cgi?metagenome=mgm4446153.3\n",
        "mgm4447277.3 \tHigh Andean Forest S \thttp://metagenomics.anl.gov/linkin.cgi?metagenome=mgm4447277.3\n",
        "mgm4449125.3 \tComposite \thttp://metagenomics.anl.gov/linkin.cgi?metagenome=mgm4449125.3\n"
       ]
      }
     ],
     "prompt_number": 15
    },
    {
     "cell_type": "markdown",
     "metadata": {},
     "source": [
      "We will retrieve all hits from the search above. We have already defined the query URL and did receive the first batch. The data is stored in the 'mlist'. As shown above, mlist contains a key 'next' containing a URL for retrieving the next batch."
     ]
    },
    {
     "cell_type": "code",
     "collapsed": false,
     "input": [
      "# Base url is already defined, see top of the document\n",
      "resource = 'metagenome'\n",
      "options  = 'biome=soil&limit=20'\n",
      "\n",
      "# Build query URL\n",
      "url     = base + \"/\" + resource + \"?\" + options\n",
      "\n",
      "print 'Query ' , url , \"\\n\"\n",
      "\n",
      "while (url) :\n",
      "\n",
      "    \n",
      "    \n",
      "    # retrieve data from URL\n",
      "    response = urllib2.urlopen( url )\n",
      "    text = response.read()\n",
      "    mlist = json.loads(text)\n",
      "    \n",
      "    # print data\n",
      "    # truncating the list to shorten the output\n",
      "    # for a complete list replace mlist['data'][0:1] with mlist['data'] \n",
      "    # and/or increase the limit\n",
      "    \n",
      "    for metagenome in mlist['data'][0:1] :  \n",
      "        print metagenome['id'] , \"\\t\" , metagenome['name'][0:20] , \"\\tNext: ...?\" + mlist['next'][48:150]\n",
      "    \n",
      "    # Important, set url to next batch\n",
      "    url = mlist['next'] \n",
      "   "
     ],
     "language": "python",
     "metadata": {},
     "outputs": [
      {
       "output_type": "stream",
       "stream": "stdout",
       "text": [
        "Query  http://kbase.us/services/communities/metagenome?biome=soil&limit=20 \n",
        "\n",
        "mgm4441091.3"
       ]
      },
      {
       "output_type": "stream",
       "stream": "stdout",
       "text": [
        " \tWaseca Farm Soil \tNext: ...?biome=soil&limit=20&verbosity=minimal&order=id&direction=asc&match=all&status=both&offset=20\n",
        "mgm4453148.3"
       ]
      },
      {
       "output_type": "stream",
       "stream": "stdout",
       "text": [
        " \tPooled_ambient_crust \tNext: ...?biome=soil&limit=20&verbosity=minimal&order=id&direction=asc&match=all&status=both&offset=40\n",
        "mgm4455672.3"
       ]
      },
      {
       "output_type": "stream",
       "stream": "stdout",
       "text": [
        " \t768 \tNext: ...?biome=soil&limit=20&verbosity=minimal&order=id&direction=asc&match=all&status=both&offset=60\n",
        "mgm4455748.3"
       ]
      },
      {
       "output_type": "stream",
       "stream": "stdout",
       "text": [
        " \t851 \tNext: ...?biome=soil&limit=20&verbosity=minimal&order=id&direction=asc&match=all&status=both&offset=80\n",
        "mgm4455768.3"
       ]
      },
      {
       "output_type": "stream",
       "stream": "stdout",
       "text": [
        " \t871 \tNext: ...?biome=soil&limit=20&verbosity=minimal&order=id&direction=asc&match=all&status=both&offset=100\n",
        "mgm4455788.3"
       ]
      },
      {
       "output_type": "stream",
       "stream": "stdout",
       "text": [
        " \t891 \tNext: ...?biome=soil&limit=20&verbosity=minimal&order=id&direction=asc&match=all&status=both&offset=120\n",
        "mgm4455814.3"
       ]
      },
      {
       "output_type": "stream",
       "stream": "stdout",
       "text": [
        " \t917 \tNext: ...?biome=soil&limit=20&verbosity=minimal&order=id&direction=asc&match=all&status=both&offset=140\n",
        "mgm4455909.3"
       ]
      },
      {
       "output_type": "stream",
       "stream": "stdout",
       "text": [
        " \t1012 \tNext: ...?biome=soil&limit=20&verbosity=minimal&order=id&direction=asc&match=all&status=both&offset=160\n",
        "mgm4455931.3"
       ]
      },
      {
       "output_type": "stream",
       "stream": "stdout",
       "text": [
        " \t1034 \tNext: ...?biome=soil&limit=20&verbosity=minimal&order=id&direction=asc&match=all&status=both&offset=180\n",
        "mgm4476876.3"
       ]
      },
      {
       "output_type": "stream",
       "stream": "stdout",
       "text": [
        " \t16SV4 amplicons gras \tNext: ...?biome=soil&limit=20&verbosity=minimal&order=id&direction=asc&match=all&status=both&offset=200\n",
        "mgm4477059.3"
       ]
      },
      {
       "output_type": "stream",
       "stream": "stdout",
       "text": [
        " \t7666.3 \tNext: ...?biome=soil&limit=20&verbosity=minimal&order=id&direction=asc&match=all&status=both&offset=220\n",
        "mgm4477283.3"
       ]
      },
      {
       "output_type": "stream",
       "stream": "stdout",
       "text": [
        " \t7819.4 \tNext: ...?biome=soil&limit=20&verbosity=minimal&order=id&direction=asc&match=all&status=both&offset=240\n",
        "mgm4488524.3"
       ]
      },
      {
       "output_type": "stream",
       "stream": "stdout",
       "text": [
        " \tNTS_067_16S_AMB \tNext: ...?biome=soil&limit=20&verbosity=minimal&order=id&direction=asc&match=all&status=both&offset=260\n"
       ]
      }
     ],
     "prompt_number": 16
    },
    {
     "cell_type": "heading",
     "level": 2,
     "metadata": {},
     "source": [
      "Retrieve Taxonomic Abundancies for Two Samples\u00b6"
     ]
    },
    {
     "cell_type": "markdown",
     "metadata": {},
     "source": [
      "We will use the profile and matrix resource to retrieve abundance data for mgm4441091.3 and mgm4447277.3 and compare the two samples. The output is in Biological Observation Matrix (BIOM) format. For a detailed description of the BIOM format, please visit http://biom-format.org/"
     ]
    },
    {
     "cell_type": "code",
     "collapsed": false,
     "input": [
      "# Base url is already defined, see top of the document\n",
      "ID       =  'mgm4441091.3'\n",
      "resource = 'profile'\n",
      "options  = 'source=RefSeq&type=organism'\n",
      "\n",
      "# Build query URL\n",
      "url     = base + \"/\" + resource + \"/\" + ID + \"?\" + options"
     ],
     "language": "python",
     "metadata": {},
     "outputs": [],
     "prompt_number": 17
    },
    {
     "cell_type": "code",
     "collapsed": false,
     "input": [
      "print \"Query URL: \" + url + \"\\n\"\n",
      "    \n",
      "response = urllib2.urlopen(url)\n",
      "text     = response.read()\n",
      "profile  = json.loads(text)"
     ],
     "language": "python",
     "metadata": {},
     "outputs": [
      {
       "output_type": "stream",
       "stream": "stdout",
       "text": [
        "Query URL: http://kbase.us/services/communities/profile/mgm4441091.3?source=RefSeq&type=organism\n",
        "\n"
       ]
      }
     ],
     "prompt_number": 20
    },
    {
     "cell_type": "markdown",
     "metadata": {},
     "source": [
      "To view the entire data structure of the profile, execute the line below in a separate cell.\n",
      "\n",
      "**pprint.pprint(profile)**"
     ]
    },
    {
     "cell_type": "markdown",
     "metadata": {},
     "source": [
      "To construct output, print the header first."
     ]
    },
    {
     "cell_type": "code",
     "collapsed": false,
     "input": [
      "# print header\n",
      "\n",
      "myList = []\n",
      "# create a header list\n",
      "for c in profile['columns'] :\n",
      "    myList.append( str(c['id']) )\n",
      "\n",
      "# create a string by joining all elements in the list with a tab and print    \n",
      "print \"\\t|\".join(myList)"
     ],
     "language": "python",
     "metadata": {},
     "outputs": [
      {
       "output_type": "stream",
       "stream": "stdout",
       "text": [
        "abundance\t|e-value\t|percent identity\t|alignment length\n"
       ]
      }
     ],
     "prompt_number": 22
    },
    {
     "cell_type": "markdown",
     "metadata": {},
     "source": [
      "Use this command to get a list of organisms for the matrix."
     ]
    },
    {
     "cell_type": "code",
     "collapsed": false,
     "input": [
      "# list of organisms\n",
      "for r in profile['rows'][0:10] :\n",
      "    print str(r['id'])"
     ],
     "language": "python",
     "metadata": {},
     "outputs": [
      {
       "output_type": "stream",
       "stream": "stdout",
       "text": [
        "Enterococcus faecalis TX4248\n",
        "Amycolatopsis mediterranei U32\n",
        "gamma proteobacterium NOR5-3\n",
        "Escherichia coli B7A\n",
        "Escherichia coli H736\n",
        "Polaromonas sp. JS666\n",
        "Paludibacter propionicigenes WB4\n",
        "Comamonas testosteroni CNB-2\n",
        "Dictyostelium discoideum AX4\n",
        "Rhodospirillum centenum SW\n"
       ]
      }
     ],
     "prompt_number": 24
    },
    {
     "cell_type": "markdown",
     "metadata": {},
     "source": [
      "Here, we will print values for every column defined by the header."
     ]
    },
    {
     "cell_type": "code",
     "collapsed": false,
     "input": [
      "myList  = []\n",
      "for c in profile['data'][0:10] :\n",
      "    for i in c :\n",
      "        myList.append( str(i) )   \n",
      "    print \"\\t|\".join(myList) \n",
      "    myList = []"
     ],
     "language": "python",
     "metadata": {},
     "outputs": [
      {
       "output_type": "stream",
       "stream": "stdout",
       "text": [
        "1\t|-8\t|64.58\t|48\n",
        "1\t|-10\t|60.87\t|46\n",
        "2\t|-9.5\t|68.58\t|44.5\n",
        "1\t|-35\t|88.37\t|86\n",
        "3\t|-60.333\t|94.733\t|122\n",
        "14\t|-25.357\t|71.439\t|77.143\n",
        "2\t|-21\t|74.275\t|65.5\n",
        "4\t|-14.5\t|74.035\t|56.5\n",
        "2\t|-5.5\t|75.175\t|32\n",
        "8\t|-32.5\t|63.989\t|103.625\n"
       ]
      }
     ],
     "prompt_number": 25
    },
    {
     "cell_type": "markdown",
     "metadata": {},
     "source": [
      "Now, we will combine header, values, and organisms."
     ]
    },
    {
     "cell_type": "code",
     "collapsed": false,
     "input": [
      "# print header\n",
      "\n",
      "# save the data so that we can sort\n",
      "matrix = []\n",
      "\n",
      "header = []\n",
      "for c in profile['columns'] :\n",
      "    # sys.stdout.write( str(c['id']) + \"\\t|\" ) \n",
      "    header.append( str(c['id']) )\n",
      "\n",
      "print \"\\t|\".join(header) \n",
      "\n",
      "\n",
      "row  = []\n",
      "counter = 0\n",
      "for r in profile['data'] :\n",
      "    for c in r :\n",
      "        row.append( str(c) )\n",
      "    row.append( profile['rows'][counter]['id'] )    \n",
      "    # only print the first 10 rows\n",
      "    if (counter <= 10) :\n",
      "        print \"\\t|\".join(row) \n",
      "    matrix.append(row)\n",
      "    row = []\n",
      "    counter = counter + 1"
     ],
     "language": "python",
     "metadata": {},
     "outputs": [
      {
       "output_type": "stream",
       "stream": "stdout",
       "text": [
        "abundance\t|e-value\t|percent identity\t|alignment length\n",
        "1\t|-8\t|64.58\t|48\t|Enterococcus faecalis TX4248\n",
        "1\t|-10\t|60.87\t|46\t|Amycolatopsis mediterranei U32\n",
        "2\t|-9.5\t|68.58\t|44.5\t|gamma proteobacterium NOR5-3\n",
        "1\t|-35\t|88.37\t|86\t|Escherichia coli B7A\n",
        "3\t|-60.333\t|94.733\t|122\t|Escherichia coli H736\n",
        "14\t|-25.357\t|71.439\t|77.143\t|Polaromonas sp. JS666\n",
        "2\t|-21\t|74.275\t|65.5\t|Paludibacter propionicigenes WB4\n",
        "4\t|-14.5\t|74.035\t|56.5\t|Comamonas testosteroni CNB-2\n",
        "2\t|-5.5\t|75.175\t|32\t|Dictyostelium discoideum AX4\n",
        "8\t|-32.5\t|63.989\t|103.625\t|Rhodospirillum centenum SW\n",
        "1\t|-17\t|62.9\t|62\t|Comamonas testosteroni KF-1\n"
       ]
      }
     ],
     "prompt_number": 26
    },
    {
     "cell_type": "markdown",
     "metadata": {},
     "source": [
      "We will look at the first 10 organism on the list. Please note that the list is unsorted."
     ]
    },
    {
     "cell_type": "code",
     "collapsed": false,
     "input": [
      "matrix[0:10]"
     ],
     "language": "python",
     "metadata": {},
     "outputs": [
      {
       "metadata": {},
       "output_type": "pyout",
       "prompt_number": 27,
       "text": [
        "[['1', '-8', '64.58', '48', u'Enterococcus faecalis TX4248'],\n",
        " ['1', '-10', '60.87', '46', u'Amycolatopsis mediterranei U32'],\n",
        " ['2', '-9.5', '68.58', '44.5', u'gamma proteobacterium NOR5-3'],\n",
        " ['1', '-35', '88.37', '86', u'Escherichia coli B7A'],\n",
        " ['3', '-60.333', '94.733', '122', u'Escherichia coli H736'],\n",
        " ['14', '-25.357', '71.439', '77.143', u'Polaromonas sp. JS666'],\n",
        " ['2', '-21', '74.275', '65.5', u'Paludibacter propionicigenes WB4'],\n",
        " ['4', '-14.5', '74.035', '56.5', u'Comamonas testosteroni CNB-2'],\n",
        " ['2', '-5.5', '75.175', '32', u'Dictyostelium discoideum AX4'],\n",
        " ['8', '-32.5', '63.989', '103.625', u'Rhodospirillum centenum SW']]"
       ]
      }
     ],
     "prompt_number": 27
    },
    {
     "cell_type": "markdown",
     "metadata": {},
     "source": [
      "Next, we will sort the matrix by abundance and report the most abundant organisms in the sample."
     ]
    },
    {
     "cell_type": "code",
     "collapsed": false,
     "input": [
      "# Function to return sort value, in this case the first element of the list\n",
      "def getKey(item):\n",
      "    return int(item[0])\n",
      "\n",
      "matrix.sort( key=getKey , reverse=True )"
     ],
     "language": "python",
     "metadata": {},
     "outputs": [],
     "prompt_number": 28
    },
    {
     "cell_type": "code",
     "collapsed": false,
     "input": [
      "matrix[0:10]"
     ],
     "language": "python",
     "metadata": {},
     "outputs": [
      {
       "metadata": {},
       "output_type": "pyout",
       "prompt_number": 29,
       "text": [
        "[['111',\n",
        "  '-27.396',\n",
        "  '68.707',\n",
        "  '85.964',\n",
        "  u'Candidatus Solibacter usitatus Ellin6076'],\n",
        " ['92', '-36.011', '70.766', '101.489', u'bacterium Ellin514'],\n",
        " ['92', '-34.272', '71.007', '98.011', u'Gemmatimonas aurantiaca T-27'],\n",
        " ['78', '-39.923', '72.272', '107.064', u'Chitinophaga pinensis DSM 2588'],\n",
        " ['73', '-26.315', '68.298', '83.822', u\"Sorangium cellulosum 'So ce 56'\"],\n",
        " ['71', '-27.662', '98.022', '58.845', u'Ruminococcus albus 8'],\n",
        " ['60', '-14.9', '91.306', '45.833', u'Cryptosporidium hominis TU502'],\n",
        " ['44', '-46.295', '75.345', '115.818', u'Candidatus Nitrospira defluvii'],\n",
        " ['44',\n",
        "  '-28.5',\n",
        "  '66.671',\n",
        "  '89.682',\n",
        "  u'Candidatus Koribacter versatilis Ellin345'],\n",
        " ['43', '-27.907', '67.361', '88.767', u'Haliangium ochraceum DSM 14365']]"
       ]
      }
     ],
     "prompt_number": 29
    },
    {
     "cell_type": "markdown",
     "metadata": {},
     "source": [
      "Last, we will print out for easy readability."
     ]
    },
    {
     "cell_type": "code",
     "collapsed": false,
     "input": [
      "for r in matrix[0:20] :\n",
      "    print \"\\t\".join(r) "
     ],
     "language": "python",
     "metadata": {},
     "outputs": [
      {
       "output_type": "stream",
       "stream": "stdout",
       "text": [
        "111\t-27.396\t68.707\t85.964\tCandidatus Solibacter usitatus Ellin6076\n",
        "92\t-36.011\t70.766\t101.489\tbacterium Ellin514\n",
        "92\t-34.272\t71.007\t98.011\tGemmatimonas aurantiaca T-27\n",
        "78\t-39.923\t72.272\t107.064\tChitinophaga pinensis DSM 2588\n",
        "73\t-26.315\t68.298\t83.822\tSorangium cellulosum 'So ce 56'\n",
        "71\t-27.662\t98.022\t58.845\tRuminococcus albus 8\n",
        "60\t-14.9\t91.306\t45.833\tCryptosporidium hominis TU502\n",
        "44\t-46.295\t75.345\t115.818\tCandidatus Nitrospira defluvii\n",
        "44\t-28.5\t66.671\t89.682\tCandidatus Koribacter versatilis Ellin345\n",
        "43\t-27.907\t67.361\t88.767\tHaliangium ochraceum DSM 14365\n",
        "37\t-27.676\t67.959\t84.865\tSpirosoma linguale DSM 74\n",
        "34\t-37.324\t74.89\t97.471\tBradyrhizobium japonicum USDA 110\n",
        "32\t-33.719\t71.148\t94.031\tOpitutus terrae PB90-1\n",
        "32\t-28.219\t70.84\t83.313\tAnaeromyxobacter sp. Fw109-5\n",
        "31\t-39.645\t77.261\t101.774\tMethylobacter tundripaludum SV96\n",
        "31\t-28.968\t67.002\t90.548\tStigmatella aurantiaca DW4/3-1\n",
        "30\t-27.533\t71.541\t83.967\tChthoniobacter flavus Ellin428\n",
        "30\t-42.133\t71.566\t111.667\tSphingomonas wittichii RW1\n",
        "28\t-25.071\t64.141\t83.786\tGemmata obscuriglobus UQM 2246\n",
        "28\t-27.5\t66.808\t86.214\tKtedonobacter racemifer DSM 44963\n"
       ]
      }
     ],
     "prompt_number": 30
    },
    {
     "cell_type": "code",
     "collapsed": false,
     "input": [],
     "language": "python",
     "metadata": {},
     "outputs": []
    }
   ],
   "metadata": {}
  }
 ]
}
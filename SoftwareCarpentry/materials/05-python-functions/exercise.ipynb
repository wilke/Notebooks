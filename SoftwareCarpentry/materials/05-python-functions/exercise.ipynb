{
 "metadata": {
  "name": "exercise"
 },
 "nbformat": 3,
 "nbformat_minor": 0,
 "worksheets": [
  {
   "cells": [
    {
     "cell_type": "markdown",
     "metadata": {},
     "source": [
      "# Longer exercise: Reading Cochlear implant into Python\n",
      "For this exercise we will return to the cochlear implant data first introduced in the section on the shell. In order to analyze the data, we need to import the data into Python. Furthermore, since this is something that would have to be done many times, we will write a function to do this. As before, beginners should aim to complete Part 1 and more advanced participants should try to complete Part 2 and Part 3 as well."
     ]
    },
    {
     "cell_type": "markdown",
     "metadata": {},
     "source": [
      "## Part 1: View the contents of the file from within Python\n",
      "Write a function `view_cochlear` that will open the file and print out each line. The only input to the function should be the name of the file as a string. "
     ]
    },
    {
     "cell_type": "code",
     "collapsed": true,
     "input": [
      "def view_cochlear(filename):\n",
      "    \"\"\"Write your docstring here.\n",
      "    \"\"\"\n",
      "       "
     ],
     "language": "python",
     "metadata": {},
     "outputs": []
    },
    {
     "cell_type": "markdown",
     "metadata": {},
     "source": [
      "Test it out:"
     ]
    },
    {
     "cell_type": "code",
     "collapsed": true,
     "input": [
      "view_cochlear('/home/swc/boot-camps/shell/data/alexander/data_216.DATA')"
     ],
     "language": "python",
     "metadata": {},
     "outputs": []
    },
    {
     "cell_type": "code",
     "collapsed": true,
     "input": [
      "view_cochlear('/home/swc/boot-camps/shell/data/Lawrence/Data0525')"
     ],
     "language": "python",
     "metadata": {},
     "outputs": []
    },
    {
     "cell_type": "markdown",
     "metadata": {},
     "source": [
      "## Part 2: \n",
      "Adapt your function above to exclude the first line using the flow control techniques we learned in the last lesson. The first line is just `#` (but don't forget to remove the `'\\n'`)."
     ]
    },
    {
     "cell_type": "code",
     "collapsed": true,
     "input": [
      "def view_cochlear(filename):\n",
      "    \"\"\"Write your docstring here.\n",
      "    \"\"\"\n",
      "    "
     ],
     "language": "python",
     "metadata": {},
     "outputs": []
    },
    {
     "cell_type": "markdown",
     "metadata": {},
     "source": [
      "Test it out:"
     ]
    },
    {
     "cell_type": "code",
     "collapsed": true,
     "input": [
      "view_cochlear('/home/swc/boot-camps/shell/data/alexander/data_216.DATA')"
     ],
     "language": "python",
     "metadata": {},
     "outputs": []
    },
    {
     "cell_type": "code",
     "collapsed": true,
     "input": [
      "view_cochlear('/home/swc/boot-camps/shell/data/Lawrence/Data0525')"
     ],
     "language": "python",
     "metadata": {},
     "outputs": []
    },
    {
     "cell_type": "markdown",
     "metadata": {},
     "source": [
      "## Part 3:\n",
      "Adapt your function above to return a dictionary containing the contents of the file. Split each line of the file by a colon followed by a space (': '). The first half of the string should be the key of the dictionary, and the second half should be the value of the dictionary."
     ]
    },
    {
     "cell_type": "code",
     "collapsed": true,
     "input": [
      "def save_cochlear(filename):\n",
      "    \"\"\"Write your docstring here.\n",
      "    \"\"\""
     ],
     "language": "python",
     "metadata": {},
     "outputs": []
    },
    {
     "cell_type": "markdown",
     "metadata": {},
     "source": [
      "Check your work:"
     ]
    },
    {
     "cell_type": "code",
     "collapsed": false,
     "input": [
      "data_216 = save_cochlear(\"/home/swc/boot-camps/shell/data/alexander/data_216.DATA\")\n",
      "print data_216[\"Subject\"]"
     ],
     "language": "python",
     "metadata": {},
     "outputs": []
    },
    {
     "cell_type": "code",
     "collapsed": false,
     "input": [
      "Data0525 = save_cochlear(\"/home/swc/boot-camps/shell/data/alexander/data_216.DATA\")\n",
      "print Data0525[\"CI type\"]"
     ],
     "language": "python",
     "metadata": {},
     "outputs": []
    }
   ],
   "metadata": {}
  }
 ]
}
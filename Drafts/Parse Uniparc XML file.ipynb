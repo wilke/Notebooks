{
 "metadata": {
  "name": "",
  "signature": "sha256:458df2660c4c1b9002e9e0387c683133b78d924d305554e351720c3de00650c4"
 },
 "nbformat": 3,
 "nbformat_minor": 0,
 "worksheets": [
  {
   "cells": [
    {
     "cell_type": "markdown",
     "metadata": {},
     "source": [
      ">>> import xml.etree.ElementTree as etree    \u2460\n",
      ">>> tree = etree.parse('examples/feed.xml')  \u2461\n",
      ">>> root = tree.getroot()                    \u2462\n",
      ">>> root                                     \u2463"
     ]
    },
    {
     "cell_type": "code",
     "collapsed": false,
     "input": [
      "import xml.etree.ElementTree as etree\n",
      "from xml.etree.cElementTree import iterparse\n",
      "from cStringIO import StringIO\n",
      "import datetime, time"
     ],
     "language": "python",
     "metadata": {},
     "outputs": [],
     "prompt_number": 1
    },
    {
     "cell_type": "code",
     "collapsed": false,
     "input": [
      "#tree = etree.parse('/Volumes/Home/data/M5NR/Sources/UniProt/uniparc_all.xml')"
     ],
     "language": "python",
     "metadata": {},
     "outputs": [],
     "prompt_number": 2
    },
    {
     "cell_type": "code",
     "collapsed": false,
     "input": [
      "source = '/Volumes/Home/data/M5NR/Sources/UniProt/uniparc_all.xml'"
     ],
     "language": "python",
     "metadata": {},
     "outputs": [],
     "prompt_number": 3
    },
    {
     "cell_type": "code",
     "collapsed": false,
     "input": [
      "# get an iterable\n",
      "context = iterparse(source, events=(\"start\", \"end\"))\n",
      "\n"
     ],
     "language": "python",
     "metadata": {},
     "outputs": [],
     "prompt_number": 4
    },
    {
     "cell_type": "code",
     "collapsed": false,
     "input": [
      "# turn it into an iterator\n",
      "context = iter(context)\n",
      "\n"
     ],
     "language": "python",
     "metadata": {},
     "outputs": [],
     "prompt_number": 5
    },
    {
     "cell_type": "code",
     "collapsed": false,
     "input": [
      "print context"
     ],
     "language": "python",
     "metadata": {},
     "outputs": [
      {
       "output_type": "stream",
       "stream": "stdout",
       "text": [
        "<iterparse object at 0x106c69750>\n"
       ]
      }
     ],
     "prompt_number": 6
    },
    {
     "cell_type": "code",
     "collapsed": false,
     "input": [
      "# get the root element\n",
      "event, root = context.next()\n",
      "\n",
      "print event , root\n",
      "\n"
     ],
     "language": "python",
     "metadata": {},
     "outputs": [
      {
       "output_type": "stream",
       "stream": "stdout",
       "text": [
        "start <Element '{http://uniprot.org/uniparc}uniparc' at 0x106c6d6f0>\n"
       ]
      }
     ],
     "prompt_number": 7
    },
    {
     "cell_type": "code",
     "collapsed": false,
     "input": [
      "# get the root element\n",
      "event, root = context.next()\n",
      "\n",
      "print event , root\n",
      "# get the root element\n",
      "event, root = context.next()\n",
      "\n",
      "print event , root\n",
      "context\n",
      "context"
     ],
     "language": "python",
     "metadata": {},
     "outputs": [
      {
       "output_type": "stream",
       "stream": "stdout",
       "text": [
        "end <Element '{http://uniprot.org/uniparc}property' at 0x106c6da80>\n",
        "start <Element '{http://uniprot.org/uniparc}property' at 0x106c6dae0>\n"
       ]
      },
      {
       "metadata": {},
       "output_type": "pyout",
       "prompt_number": 12,
       "text": [
        "<iterparse at 0x106c69750>"
       ]
      }
     ],
     "prompt_number": 12
    },
    {
     "cell_type": "markdown",
     "metadata": {},
     "source": [
      "for event, elem in context:\n",
      "    if event == \"end\" and elem.tag == \"entry\":\n",
      "        print event , elem\n",
      "        root.clear()\n",
      "        exit"
     ]
    },
    {
     "cell_type": "code",
     "collapsed": false,
     "input": [
      "f"
     ],
     "language": "python",
     "metadata": {},
     "outputs": []
    }
   ],
   "metadata": {}
  }
 ]
}
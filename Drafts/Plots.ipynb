{
 "metadata": {
  "name": "",
  "signature": "sha256:9df232eead337e7710865334080de5e546a695b4c5ca1bcc2f16d1dd50732cd8"
 },
 "nbformat": 3,
 "nbformat_minor": 0,
 "worksheets": [
  {
   "cells": [
    {
     "cell_type": "code",
     "collapsed": false,
     "input": [
      "%matplotlib inline"
     ],
     "language": "python",
     "metadata": {},
     "outputs": [],
     "prompt_number": 1
    },
    {
     "cell_type": "code",
     "collapsed": false,
     "input": [
      "import numpy as np\n",
      "import matplotlib.pyplot as plt\n",
      "\n"
     ],
     "language": "python",
     "metadata": {},
     "outputs": [],
     "prompt_number": 2
    },
    {
     "cell_type": "code",
     "collapsed": false,
     "input": [
      "# evenly sampled time at 200ms intervals\n",
      "t = np.arange(0., 5., 0.2)\n",
      "\n",
      "# red dashes, blue squares and green triangles\n",
      "plt.plot(t, t, 'r--', t, t**2, 'bs', t, t**3, 'g^')\n",
      "plt.show()"
     ],
     "language": "python",
     "metadata": {},
     "outputs": [
      {
       "metadata": {},
       "output_type": "display_data",
       "png": "[encoded data removed]",
       "text": [
        "<matplotlib.figure.Figure at 0x1083ccc10>"
       ]
      }
     ],
     "prompt_number": 23
    },
    {
     "cell_type": "code",
     "collapsed": false,
     "input": [
      "bins    = { '0' : 0 , '3' : 0 , '5' : 0 , '10' : 0 , '15' : 0 , '20' : 0 , '30' : 0 , 'rest' : 10 , 'no match' : 0}\n",
      "values_x    = []\n",
      "values_y    = []\n",
      "max_x       = 0\n",
      "max_y       = 0\n",
      "\n",
      "list_of_ints = []\n",
      "\n",
      "\n",
      "bins.keys()\n",
      "\n",
      "bins['100'] = bins['rest']\n",
      "\n",
      "for i in bins.keys():\n",
      "    if i == 'no match' :\n",
      "       next \n",
      "    elif i == 'rest' :\n",
      "        print i, bins[i]\n",
      "    else:\n",
      "        axis.append( int(i) )\n",
      "        print i\n",
      "        if int(i) > max_x :\n",
      "            max_x = int(i)\n",
      "        if int(bins[i]) > max_y :\n",
      "            max_y = int(bins[i])\n",
      "        list_of_ints.append(int(i))\n",
      "\n",
      "list_of_ints.sort()\n",
      "\n",
      "for i in list_of_ints:\n",
      "    values_x.append(i)\n",
      "    values_y.append(bins[str(i)])\n",
      "\n",
      " \n",
      "values_x  \n",
      "values_y\n",
      "#plt.axis(axis)"
     ],
     "language": "python",
     "metadata": {},
     "outputs": [
      {
       "output_type": "stream",
       "stream": "stdout",
       "text": [
        "0\n",
        "3\n",
        "5\n",
        "10\n",
        "15\n",
        "100\n",
        "30\n",
        "rest 10\n",
        "20\n",
        "0\n",
        "3\n",
        "5\n",
        "10\n",
        "15\n",
        "20\n",
        "30\n",
        "100\n"
       ]
      },
      {
       "metadata": {},
       "output_type": "pyout",
       "prompt_number": 44,
       "text": [
        "[0, 0, 0, 0, 0, 0, 0, 10]"
       ]
      }
     ],
     "prompt_number": 44
    },
    {
     "cell_type": "code",
     "collapsed": false,
     "input": [
      "plt.plot( values_x, values_y, 'ro')\n",
      "plt.axis([0, max_x, 0 , max_y])\n",
      "plt.show()"
     ],
     "language": "python",
     "metadata": {},
     "outputs": [
      {
       "metadata": {},
       "output_type": "display_data",
       "png": "[encoded data removed]",
       "text": [
        "<matplotlib.figure.Figure at 0x108365dd0>"
       ]
      }
     ],
     "prompt_number": 46
    },
    {
     "cell_type": "code",
     "collapsed": false,
     "input": [],
     "language": "python",
     "metadata": {},
     "outputs": []
    }
   ],
   "metadata": {}
  }
 ]
}
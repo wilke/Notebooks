{
 "metadata": {
  "name": "",
  "signature": "sha256:3a47015252f010961901fbed53455cdefafd5b447c16125d396757f872dd9ba5"
 },
 "nbformat": 3,
 "nbformat_minor": 0,
 "worksheets": [
  {
   "cells": [
    {
     "cell_type": "markdown",
     "metadata": {},
     "source": [
      "Functions to query Shock.\n",
      "1. is a node readable by user\n",
      "2. update acl for node for admin"
     ]
    },
    {
     "cell_type": "code",
     "collapsed": false,
     "input": [
      "import urllib2\n",
      "import json"
     ],
     "language": "python",
     "metadata": {},
     "outputs": [],
     "prompt_number": 1
    },
    {
     "cell_type": "code",
     "collapsed": false,
     "input": [],
     "language": "python",
     "metadata": {},
     "outputs": [],
     "prompt_number": 6
    },
    {
     "cell_type": "code",
     "collapsed": false,
     "input": [
      "# Define function to query shock\n",
      "\n",
      "def check_node( token , handle) :  \n",
      "    url = handle['url']\n",
      "    \n",
      "    can_read = 0 ;\n",
      "    \n",
      "    # Add auth token\n",
      "    #curl -H \"Authorization: OAuth $TOKEN\"\n",
      "    # Importing the module\n",
      "\n",
      "    # Add auth to headers\n",
      "    headers = {'User-Agent' : 'DataHandleManager 0.1'}\n",
      "    \n",
      "    if token :\n",
      "        headers = {'User-Agent' : 'DataHandleManager 0.1',\n",
      "                   'Authorization': \"OAuth \" + token ,\n",
      "                   }\n",
      "        \n",
      "\n",
      "    # Create the Request. \n",
      "    request = urllib2.Request(url, None, headers)\n",
      "    \n",
      "    try:\n",
      "        response = urllib2.urlopen(request)\n",
      "\n",
      "    except urllib2.URLError as error :\n",
      "        if hasattr(error, 'reason'):\n",
      "            print 'Reason: ', error.reason , ' ' , error.code\n",
      "            \n",
      "        elif hasattr(error, 'code'):\n",
      "            print 'The server couldn\\'t fulfill the request.'\n",
      "            print 'Error code: ', error.code \n",
      "            \n",
      "    else:\n",
      "        # Read response and decode json\n",
      "        text = response.read()\n",
      "        data = json.loads(text)\n",
      "    \n",
      "    \n",
      "        if data['status'] == 200 :\n",
      "            can_read = 1 ;\n",
      "        elif data['status'] == 400 :\n",
      "            print \"Can't read node\"\n",
      "            print \"\\t|\".join( data['status'] , data['error'])\n",
      "            can_read = 0 \n",
      "           \n",
      "    \n",
      "    \n",
      "    return can_read"
     ],
     "language": "python",
     "metadata": {},
     "outputs": [],
     "prompt_number": 34
    },
    {
     "cell_type": "code",
     "collapsed": false,
     "input": [
      "#  from urllib2 import Request, urlopen, URLError\n",
      "\n",
      "shock_url  = 'http://shock.kbase.us/'\n",
      "node       = 'e3b003f8-7340-4cd6-81d4-a85c3928a704'\n",
      "token      = \"1234\"\n",
      "\n",
      "handle     = {'id'  : 'e3b003f8-7340-4cd6-81d4-a85c3928a704',\n",
      "              'url' : 'http://shock.metagenomics.anl.gov/node/e3b003f8-7340-4cd6-81d4-a85c3928a704' ,\n",
      "              'type': 'Shock'\n",
      "              }\n",
      "\n",
      "handle1     = {'id'  : 'e3b003f8-7340-4cd6-81d4-a85c3928a704',\n",
      "              'url' : 'http://shock.metagenomics.anl.gov/node/e3b003f8-7340-4cd6-81d4-a85c3928a704' ,\n",
      "              'type': 'Shock'\n",
      "              }\n",
      "\n",
      "handle2     = {'id'  : 'e3b003f8-7340-4cd6-81d4-a85c3928a705',\n",
      "              'url' : 'http://shock.metagenomics.anl.gov/node/e3b003f8-7340-4cd6-81d4-a85c3928a705' ,\n",
      "              'type': 'Shock'\n",
      "              }\n",
      "\n",
      "handles = [ handle1, handle2 ]\n",
      "\n",
      "\n",
      "\n",
      "for h in handles :\n",
      "    print 'Checking ' + h['id']\n",
      "    ok = check_node(token , h)\n",
      "    \n",
      "    if ok :\n",
      "        print \"Can read node\"\n",
      "    else:\n",
      "        print \"Can't read node\"\n",
      "    print"
     ],
     "language": "python",
     "metadata": {},
     "outputs": [
      {
       "output_type": "stream",
       "stream": "stdout",
       "text": [
        "Checking e3b003f8-7340-4cd6-81d4-a85c3928a704\n",
        "Reason: "
       ]
      },
      {
       "output_type": "stream",
       "stream": "stdout",
       "text": [
        " Bad Request   400\n",
        "Can't read node\n",
        "\n",
        "Checking e3b003f8-7340-4cd6-81d4-a85c3928a705\n",
        "Reason: "
       ]
      },
      {
       "output_type": "stream",
       "stream": "stdout",
       "text": [
        " Bad Request   400\n",
        "Can't read node\n",
        "\n"
       ]
      }
     ],
     "prompt_number": 36
    },
    {
     "cell_type": "code",
     "collapsed": false,
     "input": [],
     "language": "python",
     "metadata": {},
     "outputs": [],
     "prompt_number": 36
    },
    {
     "cell_type": "code",
     "collapsed": false,
     "input": [],
     "language": "python",
     "metadata": {},
     "outputs": []
    }
   ],
   "metadata": {}
  }
 ]
}
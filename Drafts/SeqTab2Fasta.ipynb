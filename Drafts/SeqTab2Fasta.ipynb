{
 "metadata": {
  "name": "",
  "signature": "sha256:67d533c01abc15c651dabbfcca45d458f50e18aa58019afe4b9797a7131afcaa"
 },
 "nbformat": 3,
 "nbformat_minor": 0,
 "worksheets": [
  {
   "cells": [
    {
     "cell_type": "markdown",
     "metadata": {},
     "source": [
      "Show images inside notebook"
     ]
    },
    {
     "cell_type": "code",
     "collapsed": false,
     "input": [
      "%matplotlib inline"
     ],
     "language": "python",
     "metadata": {},
     "outputs": [],
     "prompt_number": 1
    },
    {
     "cell_type": "markdown",
     "metadata": {},
     "source": [
      "Load all modules"
     ]
    },
    {
     "cell_type": "code",
     "collapsed": false,
     "input": [
      "# fasta file IO\n",
      "import Bio\n",
      "from Bio import SeqIO\n",
      "\n",
      "# mathematical functions\n",
      "import math\n",
      "\n",
      "# regular expression\n",
      "import re\n",
      "\n",
      "# plotting library\n",
      "import numpy as np\n",
      "import matplotlib.pyplot as plt"
     ],
     "language": "python",
     "metadata": {},
     "outputs": [],
     "prompt_number": 2
    },
    {
     "cell_type": "code",
     "collapsed": false,
     "input": [
      "\n"
     ],
     "language": "python",
     "metadata": {},
     "outputs": [],
     "prompt_number": 15
    },
    {
     "cell_type": "markdown",
     "metadata": {},
     "source": [
      "Read file and create bin for percent non AA characters and total number of non AA charcaters."
     ]
    },
    {
     "cell_type": "code",
     "collapsed": false,
     "input": [
      "\n",
      "counter = 0\n",
      "total   = 0\n",
      "pbins   = { }\n",
      "lbins   = { }\n",
      "\n",
      "\n",
      "# Open a files ; files for removed and cleand sequences\n",
      "fhc = open(\"/Users/Andi/Downloads/md5nr.clean\", \"w\")\n",
      "fhr = open(\"/Users/Andi/Downloads/md5nr.removed\", \"w\")\n",
      "\n",
      "path   = \"/Users/Andi/Downloads/md5nr\"\n",
      "handle = open(path, \"rU\")\n",
      "\n",
      "for record in SeqIO.parse(handle, \"fasta\") :\n",
      "    counter = counter + 1\n",
      "    #print record.id , record.seq , len(record.seq) , record.seq.count('n')\n",
      "    sequence = record.seq.tostring()\n",
      "    text = str(record.seq)\n",
      "    \n",
      "    #print text\n",
      "    #print record.seq.find('MI') , sequence\n",
      "   \n",
      "    result = re.findall( r'([^ACDEFGHIKLMNPQRSTVWYBZX]+)', text , re.M|re.I)\n",
      "    \n",
      "    # found non AA characters\n",
      "    if result:\n",
      "        #print result.groups()\n",
      "        \n",
      "        # Number of non AA characters\n",
      "        counts = 0\n",
      "        for x in result:\n",
      "            counts = counts + len(x)\n",
      "        \n",
      "        # Do some checking - remove leading and trailing garbage characters \n",
      "        text     = re.sub(r'-', \"\", text)\n",
      "        still    = re.findall( r'([^ACDEFGHIKLMNPQRSTVWYBZX]+)', text , re.M|re.I)\n",
      "        \n",
      "        # cleaned\n",
      "        if not still :\n",
      "            # write to clean\n",
      "            string = '\\t'\n",
      "            fhc.write( string.join( [record.id, str(record.seq)] ) + \"\\n\" )\n",
      "        # still non AA characters, remove    \n",
      "        else :\n",
      "        \n",
      "            # Removed sequences\n",
      "            fhr.write( string.join( [record.id, str(record.seq)] ) + \"\\n\" ) \n",
      "        \n",
      "       \n",
      "            # Percent non AA characters in sequence\n",
      "            fpercent = float(counts) * 100 / len(record.seq)\n",
      "            percent = counts * 100 / len(record.seq)\n",
      "        \n",
      "            # print percentage as integer and float\n",
      "            # print percent , fpercent\n",
      "        \n",
      "            if counts in lbins :\n",
      "                lbins[counts] = lbins[counts] + 1\n",
      "            else :\n",
      "                lbins[counts] = 1\n",
      "        \n",
      "            # assume percent is integer\n",
      "            if percent in pbins :\n",
      "                pbins[percent] = pbins[percent] + 1\n",
      "            else :\n",
      "                pbins[percent] = 1\n",
      "    \n",
      "    # only AA characters         \n",
      "    else:\n",
      "        string = '\\t'\n",
      "        fhc.write( string.join( [record.id, str(record.seq)] ) + \"\\n\" ) \n",
      "        #fhc.writelines()\n",
      "    \n",
      "    # Print status every 100000 entries\n",
      "    if (counter == 500000 ):\n",
      "        total = total + counter\n",
      "        # ERROR in next line\n",
      "        counter = 0\n",
      "        print \"Total:\" , total\n",
      "        #break\n",
      "        \n",
      "# Close files\n",
      "fhc.close()\n",
      "fhr.close()\n",
      "handle.close()\n",
      "\n",
      "print \"Total number records read: \" , total , counter\n"
     ],
     "language": "python",
     "metadata": {},
     "outputs": [
      {
       "output_type": "stream",
       "stream": "stdout",
       "text": [
        "Total: 500000\n",
        "Total:"
       ]
      },
      {
       "output_type": "stream",
       "stream": "stdout",
       "text": [
        " 1000000\n",
        "Total:"
       ]
      },
      {
       "output_type": "stream",
       "stream": "stdout",
       "text": [
        " 1500000\n",
        "Total:"
       ]
      },
      {
       "output_type": "stream",
       "stream": "stdout",
       "text": [
        " 2000000\n",
        "Total:"
       ]
      },
      {
       "output_type": "stream",
       "stream": "stdout",
       "text": [
        " 2500000\n",
        "Total:"
       ]
      },
      {
       "output_type": "stream",
       "stream": "stdout",
       "text": [
        " 3000000\n",
        "Total:"
       ]
      },
      {
       "output_type": "stream",
       "stream": "stdout",
       "text": [
        " 3500000\n",
        "Total:"
       ]
      },
      {
       "output_type": "stream",
       "stream": "stdout",
       "text": [
        " 4000000\n",
        "Total:"
       ]
      },
      {
       "output_type": "stream",
       "stream": "stdout",
       "text": [
        " 4500000\n",
        "Total:"
       ]
      },
      {
       "output_type": "stream",
       "stream": "stdout",
       "text": [
        " 5000000\n",
        "Total:"
       ]
      },
      {
       "output_type": "stream",
       "stream": "stdout",
       "text": [
        " 5500000\n",
        "Total:"
       ]
      },
      {
       "output_type": "stream",
       "stream": "stdout",
       "text": [
        " 6000000\n",
        "Total:"
       ]
      },
      {
       "output_type": "stream",
       "stream": "stdout",
       "text": [
        " 6500000\n",
        "Total:"
       ]
      },
      {
       "output_type": "stream",
       "stream": "stdout",
       "text": [
        " 7000000\n",
        "Total:"
       ]
      },
      {
       "output_type": "stream",
       "stream": "stdout",
       "text": [
        " 7500000\n",
        "Total:"
       ]
      },
      {
       "output_type": "stream",
       "stream": "stdout",
       "text": [
        " 8000000\n",
        "Total:"
       ]
      },
      {
       "output_type": "stream",
       "stream": "stdout",
       "text": [
        " 8500000\n",
        "Total:"
       ]
      },
      {
       "output_type": "stream",
       "stream": "stdout",
       "text": [
        " 9000000\n",
        "Total:"
       ]
      },
      {
       "output_type": "stream",
       "stream": "stdout",
       "text": [
        " 9500000\n",
        "Total:"
       ]
      },
      {
       "output_type": "stream",
       "stream": "stdout",
       "text": [
        " 10000000\n",
        "Total:"
       ]
      },
      {
       "output_type": "stream",
       "stream": "stdout",
       "text": [
        " 10500000\n",
        "Total:"
       ]
      },
      {
       "output_type": "stream",
       "stream": "stdout",
       "text": [
        " 11000000\n",
        "Total:"
       ]
      },
      {
       "output_type": "stream",
       "stream": "stdout",
       "text": [
        " 11500000\n",
        "Total:"
       ]
      },
      {
       "output_type": "stream",
       "stream": "stdout",
       "text": [
        " 12000000\n",
        "Total:"
       ]
      },
      {
       "output_type": "stream",
       "stream": "stdout",
       "text": [
        " 12500000\n",
        "Total:"
       ]
      },
      {
       "output_type": "stream",
       "stream": "stdout",
       "text": [
        " 13000000\n",
        "Total:"
       ]
      },
      {
       "output_type": "stream",
       "stream": "stdout",
       "text": [
        " 13500000\n",
        "Total:"
       ]
      },
      {
       "output_type": "stream",
       "stream": "stdout",
       "text": [
        " 14000000\n",
        "Total:"
       ]
      },
      {
       "output_type": "stream",
       "stream": "stdout",
       "text": [
        " 14500000\n",
        "Total:"
       ]
      },
      {
       "output_type": "stream",
       "stream": "stdout",
       "text": [
        " 15000000\n",
        "Total:"
       ]
      },
      {
       "output_type": "stream",
       "stream": "stdout",
       "text": [
        " 15500000\n",
        "Total:"
       ]
      },
      {
       "output_type": "stream",
       "stream": "stdout",
       "text": [
        " 16000000\n",
        "Total:"
       ]
      },
      {
       "output_type": "stream",
       "stream": "stdout",
       "text": [
        " 16500000\n",
        "Total:"
       ]
      },
      {
       "output_type": "stream",
       "stream": "stdout",
       "text": [
        " 17000000\n",
        "Total:"
       ]
      },
      {
       "output_type": "stream",
       "stream": "stdout",
       "text": [
        " 17500000\n",
        "Total:"
       ]
      },
      {
       "output_type": "stream",
       "stream": "stdout",
       "text": [
        " 18000000\n",
        "Total:"
       ]
      },
      {
       "output_type": "stream",
       "stream": "stdout",
       "text": [
        " 18500000\n",
        "Total:"
       ]
      },
      {
       "output_type": "stream",
       "stream": "stdout",
       "text": [
        " 19000000\n",
        "Total:"
       ]
      },
      {
       "output_type": "stream",
       "stream": "stdout",
       "text": [
        " 19500000\n",
        "Total:"
       ]
      },
      {
       "output_type": "stream",
       "stream": "stdout",
       "text": [
        " 20000000\n",
        "Total:"
       ]
      },
      {
       "output_type": "stream",
       "stream": "stdout",
       "text": [
        " 20500000\n",
        "Total:"
       ]
      },
      {
       "output_type": "stream",
       "stream": "stdout",
       "text": [
        " 21000000\n",
        "Total:"
       ]
      },
      {
       "output_type": "stream",
       "stream": "stdout",
       "text": [
        " 21500000\n",
        "Total:"
       ]
      },
      {
       "output_type": "stream",
       "stream": "stdout",
       "text": [
        " 22000000\n",
        "Total:"
       ]
      },
      {
       "output_type": "stream",
       "stream": "stdout",
       "text": [
        " 22500000\n",
        "Total:"
       ]
      },
      {
       "output_type": "stream",
       "stream": "stdout",
       "text": [
        " 23000000\n",
        "Total:"
       ]
      },
      {
       "output_type": "stream",
       "stream": "stdout",
       "text": [
        " 23500000\n",
        "Total:"
       ]
      },
      {
       "output_type": "stream",
       "stream": "stdout",
       "text": [
        " 24000000\n",
        "Total:"
       ]
      },
      {
       "output_type": "stream",
       "stream": "stdout",
       "text": [
        " 24500000\n",
        "Total:"
       ]
      },
      {
       "output_type": "stream",
       "stream": "stdout",
       "text": [
        " 25000000\n",
        "Total:"
       ]
      },
      {
       "output_type": "stream",
       "stream": "stdout",
       "text": [
        " 25500000\n",
        "Total:"
       ]
      },
      {
       "output_type": "stream",
       "stream": "stdout",
       "text": [
        " 26000000\n",
        "Total:"
       ]
      },
      {
       "output_type": "stream",
       "stream": "stdout",
       "text": [
        " 26500000\n",
        "Total:"
       ]
      },
      {
       "output_type": "stream",
       "stream": "stdout",
       "text": [
        " 27000000\n",
        "Total:"
       ]
      },
      {
       "output_type": "stream",
       "stream": "stdout",
       "text": [
        " 27500000\n",
        "Total:"
       ]
      },
      {
       "output_type": "stream",
       "stream": "stdout",
       "text": [
        " 28000000\n",
        "Total:"
       ]
      },
      {
       "output_type": "stream",
       "stream": "stdout",
       "text": [
        " 28500000\n",
        "Total:"
       ]
      },
      {
       "output_type": "stream",
       "stream": "stdout",
       "text": [
        " 29000000\n",
        "Total:"
       ]
      },
      {
       "output_type": "stream",
       "stream": "stdout",
       "text": [
        " 29500000\n",
        "Total:"
       ]
      },
      {
       "output_type": "stream",
       "stream": "stdout",
       "text": [
        " 30000000\n",
        "Total:"
       ]
      },
      {
       "output_type": "stream",
       "stream": "stdout",
       "text": [
        " 30500000\n",
        "Total:"
       ]
      },
      {
       "output_type": "stream",
       "stream": "stdout",
       "text": [
        " 31000000\n",
        "Total:"
       ]
      },
      {
       "output_type": "stream",
       "stream": "stdout",
       "text": [
        " 31500000\n",
        "Total:"
       ]
      },
      {
       "output_type": "stream",
       "stream": "stdout",
       "text": [
        " 32000000\n",
        "Total:"
       ]
      },
      {
       "output_type": "stream",
       "stream": "stdout",
       "text": [
        " 32500000\n",
        "Total:"
       ]
      },
      {
       "output_type": "stream",
       "stream": "stdout",
       "text": [
        " 33000000\n",
        "Total:"
       ]
      },
      {
       "output_type": "stream",
       "stream": "stdout",
       "text": [
        " 33500000\n",
        "Total:"
       ]
      },
      {
       "output_type": "stream",
       "stream": "stdout",
       "text": [
        " 34000000\n",
        "Total:"
       ]
      },
      {
       "output_type": "stream",
       "stream": "stdout",
       "text": [
        " 34500000\n",
        "Total:"
       ]
      },
      {
       "output_type": "stream",
       "stream": "stdout",
       "text": [
        " 35000000\n",
        "Total:"
       ]
      },
      {
       "output_type": "stream",
       "stream": "stdout",
       "text": [
        " 35500000\n",
        "Total:"
       ]
      },
      {
       "output_type": "stream",
       "stream": "stdout",
       "text": [
        " 36000000\n",
        "Total:"
       ]
      },
      {
       "output_type": "stream",
       "stream": "stdout",
       "text": [
        " 36500000\n",
        "Total:"
       ]
      },
      {
       "output_type": "stream",
       "stream": "stdout",
       "text": [
        " 37000000\n",
        "Total:"
       ]
      },
      {
       "output_type": "stream",
       "stream": "stdout",
       "text": [
        " 37500000\n",
        "Total:"
       ]
      },
      {
       "output_type": "stream",
       "stream": "stdout",
       "text": [
        " 38000000\n",
        "Total:"
       ]
      },
      {
       "output_type": "stream",
       "stream": "stdout",
       "text": [
        " 38500000\n",
        "Total:"
       ]
      },
      {
       "output_type": "stream",
       "stream": "stdout",
       "text": [
        " 39000000\n",
        "Total:"
       ]
      },
      {
       "output_type": "stream",
       "stream": "stdout",
       "text": [
        " 39500000\n",
        "Total:"
       ]
      },
      {
       "output_type": "stream",
       "stream": "stdout",
       "text": [
        " 40000000\n",
        "Total:"
       ]
      },
      {
       "output_type": "stream",
       "stream": "stdout",
       "text": [
        " 40500000\n",
        "Total:"
       ]
      },
      {
       "output_type": "stream",
       "stream": "stdout",
       "text": [
        " 41000000\n",
        "Total:"
       ]
      },
      {
       "output_type": "stream",
       "stream": "stdout",
       "text": [
        " 41500000\n",
        "Total:"
       ]
      },
      {
       "output_type": "stream",
       "stream": "stdout",
       "text": [
        " 42000000\n",
        "Total:"
       ]
      },
      {
       "output_type": "stream",
       "stream": "stdout",
       "text": [
        " 42500000\n",
        "Total:"
       ]
      },
      {
       "output_type": "stream",
       "stream": "stdout",
       "text": [
        " 43000000\n",
        "Total number records read: "
       ]
      },
      {
       "output_type": "stream",
       "stream": "stdout",
       "text": [
        " 43000000 98145\n"
       ]
      }
     ],
     "prompt_number": 39
    },
    {
     "cell_type": "code",
     "collapsed": false,
     "input": [
      "print lbins\n",
      "print pbins"
     ],
     "language": "python",
     "metadata": {},
     "outputs": [
      {
       "output_type": "stream",
       "stream": "stdout",
       "text": [
        "{1: 30296, 2: 10900, 3: 7164, 4: 5529, 5: 4077, 6: 2838, 7: 2109, 8: 1444, 9: 1141, 10: 857, 11: 617, 12: 436, 13: 434, 14: 282, 15: 238, 16: 193, 17: 191, 18: 152, 19: 103, 20: 74, 21: 64, 22: 77, 23: 48, 24: 48, 25: 37, 26: 36, 27: 29, 28: 21, 29: 27, 30: 4, 31: 10, 32: 12, 33: 14, 34: 6, 35: 10, 36: 9, 37: 6, 38: 4, 39: 8, 40: 5, 41: 5, 42: 3, 43: 10, 44: 3, 45: 4, 47: 1, 48: 2, 50: 2, 51: 2, 52: 3, 54: 1, 55: 1, 56: 1, 57: 2, 58: 1, 61: 1, 62: 1, 63: 1, 64: 4, 65: 2, 66: 2, 67: 1, 68: 1, 70: 2, 71: 1, 76: 2, 80: 1, 81: 1, 82: 1, 104: 1, 147: 1}\n",
        "{0: 42724, 1: 17702, 2: 6113, 3: 1642, 4: 628, 5: 281, 6: 146, 7: 105, 8: 72, 9: 60, 10: 50, 11: 21, 12: 17, 13: 17, 14: 10, 15: 7, 16: 4, 17: 3, 18: 4, 19: 2, 21: 4, 23: 2}\n"
       ]
      }
     ],
     "prompt_number": 40
    },
    {
     "cell_type": "markdown",
     "metadata": {},
     "source": [
      "Create coordinates for plots"
     ]
    },
    {
     "cell_type": "code",
     "collapsed": false,
     "input": [
      "values_x    = []\n",
      "values_y    = []\n",
      "max_x       = 0\n",
      "max_y       = 0\n",
      "\n",
      "list_of_ints = []\n",
      "\n",
      "\n",
      "pbins.keys()\n",
      "\n",
      "#pbins['100'] = pbins['rest']\n",
      "\n",
      "for i in pbins.keys():\n",
      "    if i == 'no match' :\n",
      "       next \n",
      "    elif i == 'rest' :\n",
      "        # print i, bins[i]\n",
      "        next\n",
      "    else:\n",
      "        print i\n",
      "        if int(i) > max_x :\n",
      "            max_x = int(i)\n",
      "        if int(pbins[i]) > max_y :\n",
      "            max_y = int(pbins[i])\n",
      "        list_of_ints.append(int(i))\n",
      "\n",
      "list_of_ints.sort()\n",
      "\n",
      "for i in list_of_ints:\n",
      "    values_x.append(i)\n",
      "    values_y.append(pbins[i])\n",
      "\n",
      "\n",
      "print pbins\n",
      "\n",
      "print values_x  \n",
      "print values_y"
     ],
     "language": "python",
     "metadata": {},
     "outputs": [
      {
       "output_type": "stream",
       "stream": "stdout",
       "text": [
        "0\n",
        "1\n",
        "2\n",
        "3\n",
        "4\n",
        "5\n",
        "6\n",
        "7\n",
        "8\n",
        "9\n",
        "10\n",
        "11\n",
        "12\n",
        "13\n",
        "14\n",
        "15\n",
        "16\n",
        "17\n",
        "18\n",
        "19\n",
        "21\n",
        "23\n",
        "{0: 42724, 1: 17702, 2: 6113, 3: 1642, 4: 628, 5: 281, 6: 146, 7: 105, 8: 72, 9: 60, 10: 50, 11: 21, 12: 17, 13: 17, 14: 10, 15: 7, 16: 4, 17: 3, 18: 4, 19: 2, 21: 4, 23: 2}\n",
        "[0, 1, 2, 3, 4, 5, 6, 7, 8, 9, 10, 11, 12, 13, 14, 15, 16, 17, 18, 19, 21, 23]\n",
        "[42724, 17702, 6113, 1642, 628, 281, 146, 105, 72, 60, 50, 21, 17, 17, 10, 7, 4, 3, 4, 2, 4, 2]\n"
       ]
      }
     ],
     "prompt_number": 41
    },
    {
     "cell_type": "markdown",
     "metadata": {},
     "source": [
      "Plot graph"
     ]
    },
    {
     "cell_type": "code",
     "collapsed": false,
     "input": [
      "plt.plot( values_x, values_y, 'ro')\n",
      "plt.axis([0, max_x, 0 , max_y])\n",
      "plt.show()"
     ],
     "language": "python",
     "metadata": {},
     "outputs": [
      {
       "metadata": {},
       "output_type": "display_data",
       "png": "[encoded data removed]",
       "text": [
        "<matplotlib.figure.Figure at 0x1086fa990>"
       ]
      }
     ],
     "prompt_number": 42
    },
    {
     "cell_type": "code",
     "collapsed": false,
     "input": [
      "values_x    = []\n",
      "values_y    = []\n",
      "max_x       = 0\n",
      "max_y       = 0\n",
      "\n",
      "list_of_ints = []\n",
      "\n",
      "\n",
      "lbins.keys()\n",
      "\n",
      "\n",
      "\n",
      "for i in lbins.keys():\n",
      "    #print i\n",
      "    if int(i) > max_x :\n",
      "        max_x = int(i)\n",
      "    if math.log10(int(lbins[i])) > max_y :\n",
      "        max_y = math.log10( int(lbins[i]) )\n",
      "    list_of_ints.append(int(i))\n",
      "\n",
      "list_of_ints.sort()\n",
      "\n",
      "for i in list_of_ints:\n",
      "    values_x.append(i)\n",
      "    values_y.append( math.log10( int(lbins[i]) ))  \n",
      "\n",
      "\n",
      "#print lbins\n",
      "\n",
      "print values_x  \n",
      "print values_y\n",
      "print max_x\n",
      "print max_y"
     ],
     "language": "python",
     "metadata": {},
     "outputs": [
      {
       "output_type": "stream",
       "stream": "stdout",
       "text": [
        "[1, 2, 3, 4, 5, 6, 7, 8, 9, 10, 11, 12, 13, 14, 15, 16, 17, 18, 19, 20, 21, 22, 23, 24, 25, 26, 27, 28, 29, 30, 31, 32, 33, 34, 35, 36, 37, 38, 39, 40, 41, 42, 43, 44, 45, 47, 48, 50, 51, 52, 54, 55, 56, 57, 58, 61, 62, 63, 64, 65, 66, 67, 68, 70, 71, 76, 80, 81, 82, 104, 147]\n",
        "[4.48138529211277, 4.037426497940624, 3.855155577176994, 3.7426465899387362, 3.6103407114521566, 3.4530123911214554, 3.3240765797394864, 3.1595671932336202, 3.0572856444182146, 2.932980821923198, 2.7902851640332416, 2.639486489268586, 2.637489729512511, 2.450249108319361, 2.376576957056512, 2.285557309007774, 2.2810333672477277, 2.1818435879447726, 2.012837224705172, 1.8692317197309762, 1.806179973983887, 1.8864907251724818, 1.6812412373755872, 1.6812412373755872, 1.568201724066995, 1.5563025007672873, 1.462397997898956, 1.3222192947339193, 1.4313637641589874, 0.6020599913279624, 1.0, 1.0791812460476249, 1.146128035678238, 0.7781512503836436, 1.0, 0.9542425094393249, 0.7781512503836436, 0.6020599913279624, 0.9030899869919435, 0.6989700043360189, 0.6989700043360189, 0.47712125471966244, 1.0, 0.47712125471966244, 0.6020599913279624, 0.0, 0.3010299956639812, 0.3010299956639812, 0.3010299956639812, 0.47712125471966244, 0.0, 0.0, 0.0, 0.3010299956639812, 0.0, 0.0, 0.0, 0.0, 0.6020599913279624, 0.3010299956639812, 0.3010299956639812, 0.0, 0.0, 0.3010299956639812, 0.0, 0.3010299956639812, 0.0, 0.0, 0.0, 0.0, 0.0]\n",
        "147\n",
        "4.48138529211\n"
       ]
      }
     ],
     "prompt_number": 43
    },
    {
     "cell_type": "code",
     "collapsed": false,
     "input": [
      "plt.plot( values_x, values_y, 'ro')\n",
      "plt.axis([0, max_x, 0 , max_y])\n",
      "plt.show()"
     ],
     "language": "python",
     "metadata": {},
     "outputs": [
      {
       "metadata": {},
       "output_type": "display_data",
       "png": "[encoded data removed]",
       "text": [
        "<matplotlib.figure.Figure at 0x10867ed10>"
       ]
      }
     ],
     "prompt_number": 44
    },
    {
     "cell_type": "markdown",
     "metadata": {},
     "source": [
      "Garbage "
     ]
    },
    {
     "cell_type": "raw",
     "metadata": {},
     "source": [
      "  if percent == 0 :\n",
      "            pbins['0'] = bins['0'] + 1\n",
      "            print record.id , record.seq[0:20] , result , len(record.seq) , len(result) , counts , percent\n",
      "        if (percent > 0) and (percent <= 3) : \n",
      "            pbins['3'] = pbins['3'] + 1\n",
      "            #print record.id , record.seq[0:20] , result , len(record.seq) , len(result) , counts , percent\n",
      "            #print record.id , len(record.seq) , len(result) , counts , percent\n",
      "        if (percent > 3) and (percent <= 5) : \n",
      "            pbins['5'] = pbins['5'] + 1\n",
      "            #print record.id , record.seq[0:20] , result , len(record.seq) , len(result) , counts , percent\n",
      "            #print record.id , len(record.seq) , len(result) , counts , percent\n",
      "        if (percent > 5) and (percent <= 10) : \n",
      "            pbins['5'] = pbins['5'] + 1\n",
      "            #print record.id , record.seq[0:20] , result , len(record.seq) , len(result) , counts , percent\n",
      "            #print record.id , len(record.seq) , len(result) , counts , percent"
     ]
    }
   ],
   "metadata": {}
  }
 ]
}
{
 "cells": [
  {
   "cell_type": "markdown",
   "metadata": {},
   "source": [
    "# Data Retrieval "
   ]
  },
  {
   "cell_type": "markdown",
   "metadata": {},
   "source": [
    "In this section we are describing how to find and download data products created during computation. Data can be downloaded for an individual metagenome or per project."
   ]
  },
  {
   "cell_type": "markdown",
   "metadata": {},
   "source": [
    "We destinguish between precomputed and on demand data. Precomputed data available for download are all (intermediate) pipeline products including sequence similarities. On demand date are for example reads annotated with function or organisms for a given name/annotation space (e.g. SEED or RefSeq)."
   ]
  },
  {
   "cell_type": "markdown",
   "metadata": {},
   "source": [
    "##### Example Data"
   ]
  },
  {
   "cell_type": "markdown",
   "metadata": {},
   "source": [
    "We are using data from the MG-RAST project <a href=\"http://metagenomics.anl.gov/linkin.cgi?project=128\">The oral metagenome in health and disease</a> (mgp128). The project includes 8 samples from the oral cavity of humans."
   ]
  },
  {
   "cell_type": "markdown",
   "metadata": {},
   "source": [
    "\n",
    "MG-RAST ID | Metagenome Name |bp Count | Sequence Count\t| Biome\t| Sequence Type | Sequence Method\n",
    "---------- | --------------- |-------- | -------------- | ----- | ------------- | ---------------\n",
    "4447943.3|\tCA_04P |\t142,374,233|\t339,503|\t\thuman-associated habitat|\t\tWGS|\t454\n",
    "4447192.3|\tNOCA_01P |\t77,538,485 |\t204,218|\t\thuman-associated habitat|\t\tWGS|\t454\n",
    "4447103.3|\tCA1_01P |\t203,711,161|\t464,594|\t\thuman-associated habitat|\t\tWGS|\t454\n",
    "4447102.3|\tNOCA_03P|\t100,125,112|\t244,881|\t\thuman-associated habitat|\t\tWGS|\t454\n",
    "4447101.3|\tCA1_02P |\t129,851,692|\t295,072|\t\thuman-associated habitat|\t\tWGS|\t454\n",
    "4447971.3|\tCA_06_1.6 |\t37,519,874 |\t97,722 |\t\thuman-associated habitat|\t\tWGS|\t454\n",
    "4447970.3|\tCA_05_4.6 |\t27,669,924 |\t70,503 |\t\thuman-associated habitat|\t\tWGS|\t454\n",
    "4447903.3|\tCA_06P |\t123,266,763|\t306,740|\t\thuman-associated habitat|\t\tWGS|\t454"
   ]
  },
  {
   "cell_type": "markdown",
   "metadata": {},
   "source": [
    "##### Setup environment"
   ]
  },
  {
   "cell_type": "code",
   "execution_count": 1,
   "metadata": {
    "collapsed": false
   },
   "outputs": [
    {
     "data": {
      "text/plain": [
       "u'/Users/Andi/Development/Notebooks/MG-RAST Tutorial Examples'"
      ]
     },
     "execution_count": 1,
     "metadata": {},
     "output_type": "execute_result"
    }
   ],
   "source": [
    "pwd"
   ]
  },
  {
   "cell_type": "code",
   "execution_count": 4,
   "metadata": {
    "collapsed": false
   },
   "outputs": [],
   "source": [
    "! LIB_PATH=/Users/Andi/Development/MG-RAST-Repo/MG-RAST-Tools:/Users/Andi/Development/MG-RAST-Repo/MG-RAST-Tools/tools/bin ; export PYTHONPATH=$PYTHONPATH:$LIB_PATH ;export PERL5LIB=$PERL5LIB:$LIB_PATH"
   ]
  },
  {
   "cell_type": "markdown",
   "metadata": {},
   "source": [
    "### Downloading input and intermediate data products"
   ]
  },
  {
   "cell_type": "code",
   "execution_count": 5,
   "metadata": {
    "collapsed": false
   },
   "outputs": [
    {
     "name": "stderr",
     "output_type": "stream",
     "text": [
      "ERROR: File `u'mg-inbox.py'` not found.\n"
     ]
    }
   ],
   "source": [
    "! python /Users/Andi/Development/MG-RAST-Repo/MG-RAST-Tools/tools/bin/mg-inbox.py --help"
   ]
  },
  {
   "cell_type": "markdown",
   "metadata": {},
   "source": [
    "### Downloading \"annotated\" sequences"
   ]
  },
  {
   "cell_type": "code",
   "execution_count": null,
   "metadata": {
    "collapsed": true
   },
   "outputs": [],
   "source": []
  }
 ],
 "metadata": {
  "kernelspec": {
   "display_name": "Python 2",
   "language": "python",
   "name": "python2"
  },
  "language_info": {
   "codemirror_mode": {
    "name": "ipython",
    "version": 2
   },
   "file_extension": ".py",
   "mimetype": "text/x-python",
   "name": "python",
   "nbconvert_exporter": "python",
   "pygments_lexer": "ipython2",
   "version": "2.7.8"
  }
 },
 "nbformat": 4,
 "nbformat_minor": 0
}

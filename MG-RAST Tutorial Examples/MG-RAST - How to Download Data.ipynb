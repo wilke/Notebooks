{
 "cells": [
  {
   "cell_type": "markdown",
   "metadata": {},
   "source": [
    "# Data Retrieval "
   ]
  },
  {
   "cell_type": "markdown",
   "metadata": {},
   "source": [
    "In this section we are describing how to find and download data products created during computation. Data can be downloaded for an individual metagenome or per project."
   ]
  },
  {
   "cell_type": "markdown",
   "metadata": {},
   "source": [
    "We destinguish between precomputed and on demand data. Precomputed data available for download are all (intermediate) pipeline products including sequence similarities. On demand date are for example reads annotated with function or organisms for a given name/annotation space (e.g. SEED or RefSeq)."
   ]
  },
  {
   "cell_type": "markdown",
   "metadata": {},
   "source": [
    "##### Example Data"
   ]
  },
  {
   "cell_type": "markdown",
   "metadata": {},
   "source": [
    "We are using data from the MG-RAST project <a href=\"http://metagenomics.anl.gov/linkin.cgi?project=128\">The oral metagenome in health and disease</a> (mgp128). The project includes 8 samples from the oral cavity of humans."
   ]
  },
  {
   "cell_type": "markdown",
   "metadata": {},
   "source": [
    "\n",
    "MG-RAST ID | Metagenome Name |bp Count | Sequence Count\t| Biome\t| Sequence Type | Sequence Method\n",
    "---------- | --------------- |-------- | -------------- | ----- | ------------- | ---------------\n",
    "4447943.3|\tCA_04P |\t142,374,233|\t339,503|\t\thuman-associated habitat|\t\tWGS|\t454\n",
    "4447192.3|\tNOCA_01P |\t77,538,485 |\t204,218|\t\thuman-associated habitat|\t\tWGS|\t454\n",
    "4447103.3|\tCA1_01P |\t203,711,161|\t464,594|\t\thuman-associated habitat|\t\tWGS|\t454\n",
    "4447102.3|\tNOCA_03P|\t100,125,112|\t244,881|\t\thuman-associated habitat|\t\tWGS|\t454\n",
    "4447101.3|\tCA1_02P |\t129,851,692|\t295,072|\t\thuman-associated habitat|\t\tWGS|\t454\n",
    "4447971.3|\tCA_06_1.6 |\t37,519,874 |\t97,722 |\t\thuman-associated habitat|\t\tWGS|\t454\n",
    "4447970.3|\tCA_05_4.6 |\t27,669,924 |\t70,503 |\t\thuman-associated habitat|\t\tWGS|\t454\n",
    "4447903.3|\tCA_06P |\t123,266,763|\t306,740|\t\thuman-associated habitat|\t\tWGS|\t454"
   ]
  },
  {
   "cell_type": "markdown",
   "metadata": {},
   "source": [
    "### Downloading input and intermediate data products"
   ]
  },
  {
   "cell_type": "markdown",
   "metadata": {
    "collapsed": false
   },
   "source": [
    "The MG-RAST pipeline is producing various intermediate results, see MG-RAST Manual or ... <br>\n",
    "\n",
    "The mg-rast download script provides the capability for \n",
    "- listing all data products for a metagenome\n",
    "- download a single data product\n",
    "- download all data for an entire study/project"
   ]
  },
  {
   "cell_type": "code",
   "execution_count": 7,
   "metadata": {
    "collapsed": false
   },
   "outputs": [
    {
     "name": "stdout",
     "output_type": "stream",
     "text": [
      "\r\n",
      "NAME\r\n",
      "    mg-download\r\n",
      "\r\n",
      "VERSION\r\n",
      "    1\r\n",
      "\r\n",
      "SYNOPSIS\r\n",
      "    mg-download [ --help, --user <user>, --passwd <password>, --token <oAuth token>, --project <project id>, --metagenome <metagenome id>, --file <file id> --dir <directory name> --list <list files for given id>]\r\n",
      "\r\n",
      "DESCRIPTION\r\n",
      "    Retrieve metadata for a metagenome.\r\n",
      "\r\n",
      "Options:\r\n",
      "  -h, --help            show this help message and exit\r\n",
      "  --url=URL             communities API url\r\n",
      "  --user=USER           OAuth username\r\n",
      "  --passwd=PASSWD       OAuth password\r\n",
      "  --token=TOKEN         OAuth token\r\n",
      "  --project=PROJECT     project ID\r\n",
      "  --metagenome=METAGENOME\r\n",
      "                        metagenome ID\r\n",
      "  --file=FILE           file ID for given project or metagenome\r\n",
      "  --dir=DIR             directory to do downloads\r\n",
      "  --list                list files and their info for given ID\r\n",
      "\r\n",
      "Output\r\n",
      "    List available files (name and size) for given project or metagenome id.\r\n",
      "      OR\r\n",
      "    Download of file(s) for given project, metagenome, or file id.\r\n",
      "\r\n",
      "EXAMPLES\r\n",
      "    mg-download --metagenome mgm4441680.3 --list\r\n",
      "\r\n",
      "SEE ALSO\r\n",
      "    -\r\n",
      "\r\n",
      "AUTHORS\r\n",
      "    Jared Bischof, Travis Harrison, Folker Meyer, Tobias Paczian, Andreas Wilke\r\n"
     ]
    }
   ],
   "source": [
    "! mg-download.py --help"
   ]
  },
  {
   "cell_type": "markdown",
   "metadata": {},
   "source": [
    "#### Download Products for a single metagenome"
   ]
  },
  {
   "cell_type": "markdown",
   "metadata": {},
   "source": [
    "TEXT?"
   ]
  },
  {
   "cell_type": "code",
   "execution_count": 10,
   "metadata": {
    "collapsed": false
   },
   "outputs": [
    {
     "name": "stdout",
     "output_type": "stream",
     "text": [
      "+--------------+---------------------------------------------+---------+----------------------------------+-----------+\r\n",
      "| Metagenome   | File Name                                   | File ID | Checksum                         | Byte Size |\r\n",
      "+--------------+---------------------------------------------+---------+----------------------------------+-----------+\r\n",
      "| mgm4441680.3 | mgm4441680.3.050.upload.fna                 | 050.1   | b5971c881731254ccfeed9b20c205fda |  20119214 |\r\n",
      "| mgm4441680.3 | mgm4441680.3.100.preprocess.passed.fna      | 100.1   | None                             |  19194865 |\r\n",
      "| mgm4441680.3 | mgm4441680.3.100.preprocess.removed.fna     | 100.2   | None                             |    924348 |\r\n",
      "| mgm4441680.3 | mgm4441680.3.150.dereplication.passed.fna   | 150.1   | None                             |  18857673 |\r\n",
      "| mgm4441680.3 | mgm4441680.3.150.dereplication.removed.fna  | 150.2   | None                             |    336945 |\r\n",
      "| mgm4441680.3 | mgm4441680.3.299.screen.passed.fna          | 299.1   | None                             |  18857374 |\r\n",
      "| mgm4441680.3 | mgm4441680.3.350.genecalling.faa            | 350.1   | ae0fdade8a59174de71a6ecdd2351be6 |   8169114 |\r\n",
      "| mgm4441680.3 | mgm4441680.3.425.rna.filter.fna             | 425.1   | None                             |   2894827 |\r\n",
      "| mgm4441680.3 | mgm4441680.3.440.cluster.rna97.mapping      | 440.1   | c74370eb4430989f057e4c6f0febf998 |     21187 |\r\n",
      "| mgm4441680.3 | mgm4441680.3.440.cluster.rna97.fna          | 440.2   | e0bcc912465be357d6ba3a87f1278c9e |   2832331 |\r\n",
      "| mgm4441680.3 | mgm4441680.3.450.rna.sims                   | 450.1   | acac9c2164a300255b78f43392c8c53a |    346328 |\r\n",
      "| mgm4441680.3 | mgm4441680.3.550.cluster.aa90.mapping       | 550.1   | 79ad6ac4c00aac64eddabed657e2569e |     80898 |\r\n",
      "| mgm4441680.3 | mgm4441680.3.550.cluster.aa90.faa           | 550.2   | d303fea89ad38feb046443d38eca07c0 |   8078030 |\r\n",
      "| mgm4441680.3 | mgm4441680.3.650.protein.sims               | 650.1   | d8e73f54bbe8edcbff3cb1eb775d5600 |  47819877 |\r\n",
      "| mgm4441680.3 | mgm4441680.3.700.annotation.sims.filter.seq | 700.1   | 581f4f7507b0d7bcf12ea2c2dd56578f |  16813807 |\r\n",
      "| mgm4441680.3 | mgm4441680.3.999.done                       | 999.1   | 98c73f8046f1a6a6d1f4b7a7640260ef |  12771586 |\r\n",
      "+--------------+---------------------------------------------+---------+----------------------------------+-----------+\r\n"
     ]
    }
   ],
   "source": [
    "! mg-download.py --metagenome mgm4441680.3 --list"
   ]
  },
  {
   "cell_type": "markdown",
   "metadata": {},
   "source": [
    "Downloading the cluster mapping file for mgm4441680.3\n",
    "\n",
    "Metagenome | File Name | File ID\n",
    "----------|------------|--------\n",
    "mgm4441680.3 | mgm4441680.3.550.cluster.aa90.mapping       | 550.1 \n",
    "\n",
    "\n",
    "Execute <code>mg-download.py --metagenome mgm4441680.3 --file 550.1</code> on the command line. This will create a directory in your current or specified directory (--dir) with the metagenome as name."
   ]
  },
  {
   "cell_type": "code",
   "execution_count": 29,
   "metadata": {
    "collapsed": false
   },
   "outputs": [
    {
     "name": "stdout",
     "output_type": "stream",
     "text": [
      "Downloading mgm4441680.3.550.cluster.aa90.mapping for mgm4441680.3 ... Done\r\n"
     ]
    }
   ],
   "source": [
    "! mg-download.py --metagenome mgm4441680.3 --file 550.1 "
   ]
  },
  {
   "cell_type": "markdown",
   "metadata": {},
   "source": [
    "Check content of download directory: \n",
    "<code>ls mgm4441680.3</code>"
   ]
  },
  {
   "cell_type": "code",
   "execution_count": 32,
   "metadata": {
    "collapsed": false
   },
   "outputs": [
    {
     "name": "stdout",
     "output_type": "stream",
     "text": [
      "mgm4441680.3.550.cluster.aa90.mapping\r\n"
     ]
    }
   ],
   "source": [
    "ls mgm4441680.3"
   ]
  },
  {
   "cell_type": "code",
   "execution_count": 23,
   "metadata": {
    "collapsed": true
   },
   "outputs": [],
   "source": [
    "less mgm4441680.3/mgm4441680.3.550.cluster.aa90.mapping"
   ]
  },
  {
   "cell_type": "code",
   "execution_count": 33,
   "metadata": {
    "collapsed": false
   },
   "outputs": [],
   "source": [
    "#! for i in `cut -f3 mgm4441680.3/mgm4441680.3.550.cluster.aa90.mapping` ; do echo $i | sed -e 's/[^,]*//g' | wc -c ; done  | sort | uniq -c"
   ]
  },
  {
   "cell_type": "markdown",
   "metadata": {},
   "source": [
    "Cluster with more than one members:\n",
    "\n",
    "<code>\n",
    "for i in `cut -f3 mgm4441680.3/mgm4441680.3.550.cluster.aa90.mapping` ; \n",
    "    do c=`echo $i | sed -e 's/[^,]*//g' | wc -c` ; echo `expr $c + 1` ; \n",
    "done  | sort | uniq -c\n",
    "</code>"
   ]
  },
  {
   "cell_type": "code",
   "execution_count": 28,
   "metadata": {
    "collapsed": false
   },
   "outputs": [
    {
     "name": "stdout",
     "output_type": "stream",
     "text": [
      "1528 2\r\n",
      "  44 3\r\n",
      "   2 4\r\n",
      "   1 5\r\n"
     ]
    }
   ],
   "source": [
    "! for i in `cut -f3 mgm4441680.3/mgm4441680.3.550.cluster.aa90.mapping` ; do c=`echo $i | sed -e 's/[^,]*//g' | wc -c` ; echo `expr $c + 1` ; done  | sort | uniq -c"
   ]
  },
  {
   "cell_type": "markdown",
   "metadata": {},
   "source": [
    "#### Download Products for a Project"
   ]
  },
  {
   "cell_type": "code",
   "execution_count": 11,
   "metadata": {
    "collapsed": false
   },
   "outputs": [
    {
     "name": "stdout",
     "output_type": "stream",
     "text": [
      "+--------------+---------------------------------------------+---------+----------------------------------+-----------+\r\n",
      "| Metagenome   | File Name                                   | File ID | Checksum                         | Byte Size |\r\n",
      "+--------------+---------------------------------------------+---------+----------------------------------+-----------+\r\n",
      "| mgm4447971.3 | mgm4447971.3.050.upload.fna                 | 050.1   | 328834dc94901ba458afc26f47fed41c |  39181148 |\r\n",
      "| mgm4447971.3 | mgm4447971.3.100.preprocess.passed.fna      | 100.1   | 328834dc94901ba458afc26f47fed41c |  39181148 |\r\n",
      "| mgm4447971.3 | mgm4447971.3.100.preprocess.removed.fna     | 100.2   | d41d8cd98f00b204e9800998ecf8427e |         0 |\r\n",
      "| mgm4447971.3 | mgm4447971.3.150.dereplication.passed.fna   | 150.1   | 328834dc94901ba458afc26f47fed41c |  39181148 |\r\n",
      "| mgm4447971.3 | mgm4447971.3.150.dereplication.removed.fna  | 150.2   | d41d8cd98f00b204e9800998ecf8427e |         0 |\r\n",
      "| mgm4447971.3 | mgm4447971.3.299.screen.passed.fna          | 299.1   | 328834dc94901ba458afc26f47fed41c |  39181148 |\r\n",
      "| mgm4447971.3 | mgm4447971.3.350.genecalling.faa            | 350.1   | 16a99a27218effa78dab152704bd0a42 |  13679093 |\r\n",
      "| mgm4447971.3 | mgm4447971.3.425.rna.filter.fna             | 425.1   | None                             |   3539728 |\r\n",
      "| mgm4447971.3 | mgm4447971.3.440.cluster.rna97.mapping      | 440.1   | e309a6c9d89957301dfeb910a8a645a1 |     59693 |\r\n",
      "| mgm4447971.3 | mgm4447971.3.440.cluster.rna97.fna          | 440.2   | 9f44736c963cb452a755735f4bb5905d |   2990864 |\r\n",
      "| mgm4447971.3 | mgm4447971.3.450.rna.sims                   | 450.1   | 34c48276189ee017b0464eee5dd2cfa4 |    735256 |\r\n",
      "| mgm4447971.3 | mgm4447971.3.550.cluster.aa90.mapping       | 550.1   | 883c05c2c9589d315614ed132d4e0de3 |    885333 |\r\n",
      "| mgm4447971.3 | mgm4447971.3.550.cluster.aa90.faa           | 550.2   | bde55ff3dff4cd58162d8906421be379 |  11272172 |\r\n",
      "| mgm4447971.3 | mgm4447971.3.650.protein.sims               | 650.1   | d758dbf3b4961cddf59af56287fefd0c |  89198915 |\r\n",
      "| mgm4447971.3 | mgm4447971.3.700.annotation.sims.filter.seq | 700.1   | c5612e2886cae942b94a3c51dd2d0870 |  95594020 |\r\n",
      "| mgm4447103.3 | mgm4447103.3.050.upload.fna                 | 050.1   | 52c769cd829e79f6646b0dc308c53c34 | 211609259 |\r\n",
      "| mgm4447103.3 | mgm4447103.3.100.preprocess.passed.fna      | 100.1   | None                             | 207196518 |\r\n",
      "| mgm4447103.3 | mgm4447103.3.100.preprocess.removed.fna     | 100.2   | None                             |   4412740 |\r\n",
      "| mgm4447103.3 | mgm4447103.3.150.dereplication.passed.fna   | 150.1   | None                             | 182768988 |\r\n",
      "| mgm4447103.3 | mgm4447103.3.150.dereplication.removed.fna  | 150.2   | None                             |  24426583 |\r\n",
      "| mgm4447103.3 | mgm4447103.3.299.screen.passed.fna          | 299.1   | None                             | 182768197 |\r\n",
      "| mgm4447103.3 | mgm4447103.3.350.genecalling.faa            | 350.1   | 04ef569985638dd242ad36ecbea43e6f |  63540927 |\r\n",
      "| mgm4447103.3 | mgm4447103.3.425.rna.filter.fna             | 425.1   | None                             |  19548758 |\r\n",
      "| mgm4447103.3 | mgm4447103.3.440.cluster.rna97.mapping      | 440.1   | c2042f260732ed92565b25497aac9a92 |    362147 |\r\n",
      "| mgm4447103.3 | mgm4447103.3.440.cluster.rna97.fna          | 440.2   | a3191c6fb5d59558a3b635a255d7611a |  15325601 |\r\n",
      "| mgm4447103.3 | mgm4447103.3.450.rna.sims                   | 450.1   | a18b8f11a5498b42c740a26f70eb719c |   2985480 |\r\n",
      "| mgm4447103.3 | mgm4447103.3.550.cluster.aa90.mapping       | 550.1   | 9b5b1d3853c8eb455f64661b240d842f |   6284316 |\r\n",
      "| mgm4447103.3 | mgm4447103.3.550.cluster.aa90.faa           | 550.2   | a5b16ae2dbd704c1bb543496809f2e38 |  43947428 |\r\n",
      "| mgm4447103.3 | mgm4447103.3.650.protein.sims               | 650.1   | fbd8a106dc35d5143cd7b980419d2de8 | 344954469 |\r\n",
      "| mgm4447103.3 | mgm4447103.3.700.annotation.sims.filter.seq | 700.1   | be2ce7b6e695681ad21944a60963707c | 491811570 |\r\n",
      "| mgm4447102.3 | mgm4447102.3.050.upload.fna                 | 050.1   | b6d5c72a9c66de929b21378bc7b67695 | 104288089 |\r\n",
      "| mgm4447102.3 | mgm4447102.3.100.preprocess.passed.fna      | 100.1   | b6d5c72a9c66de929b21378bc7b67695 | 104288089 |\r\n",
      "| mgm4447102.3 | mgm4447102.3.100.preprocess.removed.fna     | 100.2   | d41d8cd98f00b204e9800998ecf8427e |         0 |\r\n",
      "| mgm4447102.3 | mgm4447102.3.150.dereplication.passed.fna   | 150.1   | b6d5c72a9c66de929b21378bc7b67695 | 104288089 |\r\n",
      "| mgm4447102.3 | mgm4447102.3.150.dereplication.removed.fna  | 150.2   | d41d8cd98f00b204e9800998ecf8427e |         0 |\r\n",
      "| mgm4447102.3 | mgm4447102.3.299.screen.passed.fna          | 299.1   | b6d5c72a9c66de929b21378bc7b67695 | 104288089 |\r\n",
      "| mgm4447102.3 | mgm4447102.3.350.genecalling.faa            | 350.1   | 14ad1d52c4a33c61ec7ab8d1c2238e55 |  32169422 |\r\n",
      "| mgm4447102.3 | mgm4447102.3.425.rna.filter.fna             | 425.1   | None                             |  11498760 |\r\n",
      "| mgm4447102.3 | mgm4447102.3.440.cluster.rna97.mapping      | 440.1   | b0c9d1e55af64aa46da7ead4048537a5 |    144406 |\r\n",
      "| mgm4447102.3 | mgm4447102.3.440.cluster.rna97.fna          | 440.2   | 7ed9fb8ea9b649a5edcf12387ce481a2 |  10256377 |\r\n",
      "| mgm4447102.3 | mgm4447102.3.450.rna.sims                   | 450.1   | fd6d282cea735f2b4f45a7b231b57472 |   1430888 |\r\n",
      "| mgm4447102.3 | mgm4447102.3.550.cluster.aa90.mapping       | 550.1   | 56c7868867a6fa5869716e9f5da12a46 |   2395714 |\r\n",
      "| mgm4447102.3 | mgm4447102.3.550.cluster.aa90.faa           | 550.2   | f6665d94301d793da5f156c947a32e35 |  25785623 |\r\n",
      "| mgm4447102.3 | mgm4447102.3.650.protein.sims               | 650.1   | 604553a7e77aa588dc19475ce86640e5 | 181295364 |\r\n",
      "| mgm4447102.3 | mgm4447102.3.700.annotation.sims.filter.seq | 700.1   | 8af2783b745398640e28cfd8deaf3a8e | 240997116 |\r\n",
      "| mgm4447943.3 | mgm4447943.3.050.upload.fna                 | 050.1   | c031de380d7961aa820c108443205220 | 148145784 |\r\n",
      "| mgm4447943.3 | mgm4447943.3.100.preprocess.passed.fna      | 100.1   | c031de380d7961aa820c108443205220 | 148145784 |\r\n",
      "| mgm4447943.3 | mgm4447943.3.100.preprocess.removed.fna     | 100.2   | d41d8cd98f00b204e9800998ecf8427e |         0 |\r\n",
      "| mgm4447943.3 | mgm4447943.3.150.dereplication.passed.fna   | 150.1   | c031de380d7961aa820c108443205220 | 148145784 |\r\n",
      "| mgm4447943.3 | mgm4447943.3.150.dereplication.removed.fna  | 150.2   | d41d8cd98f00b204e9800998ecf8427e |         0 |\r\n",
      "| mgm4447943.3 | mgm4447943.3.299.screen.passed.fna          | 299.1   | c031de380d7961aa820c108443205220 | 148145784 |\r\n",
      "| mgm4447943.3 | mgm4447943.3.350.genecalling.faa            | 350.1   | 0a433b8edb11108e71356784a20cf786 |  51217959 |\r\n",
      "| mgm4447943.3 | mgm4447943.3.425.rna.filter.fna             | 425.1   | None                             |  12239230 |\r\n",
      "| mgm4447943.3 | mgm4447943.3.440.cluster.rna97.mapping      | 440.1   | 7504b38aa6bf85e2c0f3177e205a7753 |    260273 |\r\n",
      "| mgm4447943.3 | mgm4447943.3.440.cluster.rna97.fna          | 440.2   | e763289610b609aec86d2b1b46e709ba |   9599780 |\r\n",
      "| mgm4447943.3 | mgm4447943.3.450.rna.sims                   | 450.1   | 9caaca39ae0aa7de146ae58e565c981e |   2037144 |\r\n",
      "| mgm4447943.3 | mgm4447943.3.550.cluster.aa90.mapping       | 550.1   | 0bce6fec6fb2ef21db5de77d33a6b2b9 |   4879531 |\r\n",
      "| mgm4447943.3 | mgm4447943.3.550.cluster.aa90.faa           | 550.2   | 2447001cf0edd4fb41a823da3d0dc417 |  36987490 |\r\n",
      "| mgm4447943.3 | mgm4447943.3.650.protein.sims               | 650.1   | ac810de23ec7d2ba825b83ba0a11841a | 283185900 |\r\n",
      "| mgm4447943.3 | mgm4447943.3.700.annotation.sims.filter.seq | 700.1   | e7496419616d25b55de6e8aa60f846f3 | 379157621 |\r\n",
      "| mgm4447192.3 | mgm4447192.3.050.upload.fna                 | 050.1   | 128b0d81eca19a232dfe0332b7676bdf |  81010191 |\r\n",
      "| mgm4447192.3 | mgm4447192.3.100.preprocess.passed.fna      | 100.1   | None                             |  79370531 |\r\n",
      "| mgm4447192.3 | mgm4447192.3.100.preprocess.removed.fna     | 100.2   | None                             |   1639659 |\r\n",
      "| mgm4447192.3 | mgm4447192.3.150.dereplication.passed.fna   | 150.1   | None                             |  71551545 |\r\n",
      "| mgm4447192.3 | mgm4447192.3.150.dereplication.removed.fna  | 150.2   | None                             |   7818197 |\r\n",
      "| mgm4447192.3 | mgm4447192.3.299.screen.passed.fna          | 299.1   | None                             |  71551545 |\r\n",
      "| mgm4447192.3 | mgm4447192.3.350.genecalling.faa            | 350.1   | 736504571395b1bfd6dcdfae18a1e831 |  25498099 |\r\n",
      "| mgm4447192.3 | mgm4447192.3.425.rna.filter.fna             | 425.1   | None                             |   5758257 |\r\n",
      "| mgm4447192.3 | mgm4447192.3.440.cluster.rna97.mapping      | 440.1   | 2a906d187126f5d159018d4cecd981dd |     77619 |\r\n",
      "| mgm4447192.3 | mgm4447192.3.440.cluster.rna97.fna          | 440.2   | 89b11d76aa97e377ccc3d6c70112c553 |   4995104 |\r\n",
      "| mgm4447192.3 | mgm4447192.3.450.rna.sims                   | 450.1   | 58446cf736e67b7b4eacf4fdcd98d366 |   1721625 |\r\n",
      "| mgm4447192.3 | mgm4447192.3.550.cluster.aa90.mapping       | 550.1   | 8d10e455b8c7098b6d1c61424bfb13c5 |   1066799 |\r\n",
      "| mgm4447192.3 | mgm4447192.3.550.cluster.aa90.faa           | 550.2   | 7e5e256923508d527c9cde84541509d3 |  22974474 |\r\n",
      "| mgm4447192.3 | mgm4447192.3.650.protein.sims               | 650.1   | cd81a0f73a64b4ff3293e1c4f0aa84dd | 194741519 |\r\n",
      "| mgm4447192.3 | mgm4447192.3.700.annotation.sims.filter.seq | 700.1   | 41a42f1623448ec0c5e54ff174aff5b0 | 186148309 |\r\n",
      "| mgm4447101.3 | mgm4447101.3.050.upload.fna                 | 050.1   | 20fc92a495cddeac2348b75a3f1f21a3 | 134867916 |\r\n",
      "| mgm4447101.3 | mgm4447101.3.100.preprocess.passed.fna      | 100.1   | None                             | 131999374 |\r\n",
      "| mgm4447101.3 | mgm4447101.3.100.preprocess.removed.fna     | 100.2   | None                             |   2868541 |\r\n",
      "| mgm4447101.3 | mgm4447101.3.150.dereplication.passed.fna   | 150.1   | None                             | 120374323 |\r\n",
      "| mgm4447101.3 | mgm4447101.3.150.dereplication.removed.fna  | 150.2   | None                             |  11624094 |\r\n",
      "| mgm4447101.3 | mgm4447101.3.299.screen.passed.fna          | 299.1   | None                             | 120374323 |\r\n",
      "| mgm4447101.3 | mgm4447101.3.350.genecalling.faa            | 350.1   | ef2ced5be81d4291c8fa04162016404a |  41533283 |\r\n",
      "| mgm4447101.3 | mgm4447101.3.425.rna.filter.fna             | 425.1   | None                             |  12193286 |\r\n",
      "| mgm4447101.3 | mgm4447101.3.440.cluster.rna97.mapping      | 440.1   | b2a079ee15412feac9a341b7fa85d02f |    145046 |\r\n",
      "| mgm4447101.3 | mgm4447101.3.440.cluster.rna97.fna          | 440.2   | f7fe384458ede720db3939c3f3a09615 |  10604625 |\r\n",
      "| mgm4447101.3 | mgm4447101.3.450.rna.sims                   | 450.1   | c2cac58371a53954ea463dc3914d5d5f |   2205190 |\r\n",
      "| mgm4447101.3 | mgm4447101.3.550.cluster.aa90.mapping       | 550.1   | 6577d28f7c2fb935b93110467c10437f |   2656704 |\r\n",
      "| mgm4447101.3 | mgm4447101.3.550.cluster.aa90.faa           | 550.2   | a63a9d9107003630db749a5c95068c6f |  34237053 |\r\n",
      "| mgm4447101.3 | mgm4447101.3.650.protein.sims               | 650.1   | b77486df42aa531776d8ed58e15bbd93 | 254746872 |\r\n",
      "| mgm4447101.3 | mgm4447101.3.700.annotation.sims.filter.seq | 700.1   | 66bf9d8696fb58cf03c3d776aed981da | 299176129 |\r\n",
      "| mgm4447903.3 | mgm4447903.3.050.upload.fna                 | 050.1   | 8cdd634d1a2461da46e5ce2fece96ecc | 128481343 |\r\n",
      "| mgm4447903.3 | mgm4447903.3.100.preprocess.passed.fna      | 100.1   | 8cdd634d1a2461da46e5ce2fece96ecc | 128481343 |\r\n",
      "| mgm4447903.3 | mgm4447903.3.100.preprocess.removed.fna     | 100.2   | d41d8cd98f00b204e9800998ecf8427e |         0 |\r\n",
      "| mgm4447903.3 | mgm4447903.3.150.dereplication.passed.fna   | 150.1   | 8cdd634d1a2461da46e5ce2fece96ecc | 128481343 |\r\n",
      "| mgm4447903.3 | mgm4447903.3.150.dereplication.removed.fna  | 150.2   | d41d8cd98f00b204e9800998ecf8427e |         0 |\r\n",
      "| mgm4447903.3 | mgm4447903.3.299.screen.passed.fna          | 299.1   | 8cdd634d1a2461da46e5ce2fece96ecc | 128481343 |\r\n",
      "| mgm4447903.3 | mgm4447903.3.350.genecalling.faa            | 350.1   | a3c1eb00589e12127611164ff18e7451 |  44812517 |\r\n",
      "| mgm4447903.3 | mgm4447903.3.425.rna.filter.fna             | 425.1   | None                             |  12647219 |\r\n",
      "| mgm4447903.3 | mgm4447903.3.440.cluster.rna97.mapping      | 440.1   | 50b6aaa5eca5c89896e7a17f89f41626 |    214276 |\r\n",
      "| mgm4447903.3 | mgm4447903.3.440.cluster.rna97.fna          | 440.2   | 4b045f1dc5a7d9250bac47ed12aaaa27 |  10643616 |\r\n",
      "| mgm4447903.3 | mgm4447903.3.450.rna.sims                   | 450.1   | d613c69f79e0720db3670608b51677e4 |   2130299 |\r\n",
      "| mgm4447903.3 | mgm4447903.3.550.cluster.aa90.mapping       | 550.1   | 56530b1392a189e345c0c98c918a46cf |   3491765 |\r\n",
      "| mgm4447903.3 | mgm4447903.3.550.cluster.aa90.faa           | 550.2   | 840f34cf82737eaf67fcf6ea5a74e4bb |  35494944 |\r\n",
      "| mgm4447903.3 | mgm4447903.3.650.protein.sims               | 650.1   | 336b1911828ab283e818a9c31cb8509d | 275013579 |\r\n",
      "| mgm4447903.3 | mgm4447903.3.700.annotation.sims.filter.seq | 700.1   | a62de5b85699414815dd312d8f6d4190 | 324700253 |\r\n",
      "| mgm4447970.3 | mgm4447970.3.050.upload.fna                 | 050.1   | ec704f3775b1e5d7767a69421c8fb3e8 |  28868475 |\r\n",
      "| mgm4447970.3 | mgm4447970.3.100.preprocess.passed.fna      | 100.1   | ec704f3775b1e5d7767a69421c8fb3e8 |  28868475 |\r\n",
      "| mgm4447970.3 | mgm4447970.3.100.preprocess.removed.fna     | 100.2   | d41d8cd98f00b204e9800998ecf8427e |         0 |\r\n",
      "| mgm4447970.3 | mgm4447970.3.150.dereplication.passed.fna   | 150.1   | ec704f3775b1e5d7767a69421c8fb3e8 |  28868475 |\r\n",
      "| mgm4447970.3 | mgm4447970.3.150.dereplication.removed.fna  | 150.2   | d41d8cd98f00b204e9800998ecf8427e |         0 |\r\n",
      "| mgm4447970.3 | mgm4447970.3.299.screen.passed.fna          | 299.1   | ec704f3775b1e5d7767a69421c8fb3e8 |  28868475 |\r\n",
      "| mgm4447970.3 | mgm4447970.3.350.genecalling.faa            | 350.1   | 5d479abb01cfb4b7687b3a83ba4df5fc |   9922558 |\r\n",
      "| mgm4447970.3 | mgm4447970.3.425.rna.filter.fna             | 425.1   | None                             |   2963838 |\r\n",
      "| mgm4447970.3 | mgm4447970.3.440.cluster.rna97.mapping      | 440.1   | ae227d06a8c5b8587f84f075486fb35c |     54374 |\r\n",
      "| mgm4447970.3 | mgm4447970.3.440.cluster.rna97.fna          | 440.2   | 97df32e0b74eb1ffd0c7268f2f23258b |   2461827 |\r\n",
      "| mgm4447970.3 | mgm4447970.3.450.rna.sims                   | 450.1   | d713b1b78765db0ae7d7da60c5e50dc0 |    440344 |\r\n",
      "| mgm4447970.3 | mgm4447970.3.550.cluster.aa90.mapping       | 550.1   | 6e0c03a6e48291ec3846696815b400ff |    758334 |\r\n",
      "| mgm4447970.3 | mgm4447970.3.550.cluster.aa90.faa           | 550.2   | 73da67ee9297ddceb66923ce118288a6 |   7757888 |\r\n",
      "| mgm4447970.3 | mgm4447970.3.650.protein.sims               | 650.1   | c58ca94dfa61525c193b99a392ed2c51 |  53543996 |\r\n",
      "| mgm4447970.3 | mgm4447970.3.700.annotation.sims.filter.seq | 700.1   | c4a55b6957a06a3b498b554872563fe9 |  70098345 |\r\n",
      "+--------------+---------------------------------------------+---------+----------------------------------+-----------+\r\n"
     ]
    }
   ],
   "source": [
    "! mg-download.py --project mgp128 --list"
   ]
  },
  {
   "cell_type": "markdown",
   "metadata": {},
   "source": [
    "This will download the entiere study:\n",
    "<code>mg-download.py --project mgp128</code> "
   ]
  },
  {
   "cell_type": "code",
   "execution_count": 35,
   "metadata": {
    "collapsed": false
   },
   "outputs": [
    {
     "name": "stdout",
     "output_type": "stream",
     "text": [
      "Downloading mgm4447971.3.050.upload.fna for mgm4447971.3 ... Done\n",
      "Downloading mgm4447971.3.100.preprocess.passed.fna for mgm4447971.3 ... Done\n",
      "Downloading mgm4447971.3.100.preprocess.removed.fna for mgm4447971.3 ... Done\n",
      "Downloading mgm4447971.3.150.dereplication.passed.fna for mgm4447971.3 ... Done\n",
      "Downloading mgm4447971.3.150.dereplication.removed.fna for mgm4447971.3 ... Done\n",
      "Downloading mgm4447971.3.299.screen.passed.fna for mgm4447971.3 ... Done\n",
      "Downloading mgm4447971.3.350.genecalling.faa for mgm4447971.3 ... Done\n",
      "Downloading mgm4447971.3.425.rna.filter.fna for mgm4447971.3 ... Done\n",
      "Downloading mgm4447971.3.440.cluster.rna97.mapping for mgm4447971.3 ... Done\n",
      "Downloading mgm4447971.3.440.cluster.rna97.fna for mgm4447971.3 ... Done\n",
      "Downloading mgm4447971.3.450.rna.sims for mgm4447971.3 ... Done\n",
      "Downloading mgm4447971.3.550.cluster.aa90.mapping for mgm4447971.3 ... Done\n",
      "Downloading mgm4447971.3.550.cluster.aa90.faa for mgm4447971.3 ... Done\n",
      "Downloading mgm4447971.3.650.protein.sims for mgm4447971.3 ... Done\n",
      "Downloading mgm4447971.3.700.annotation.sims.filter.seq for mgm4447971.3 ... Done\n",
      "Downloading mgm4447103.3.050.upload.fna for mgm4447103.3 ... Done\n",
      "Downloading mgm4447103.3.100.preprocess.passed.fna for mgm4447103.3 ... Done\n",
      "Downloading mgm4447103.3.100.preprocess.removed.fna for mgm4447103.3 ... Done\n",
      "Downloading mgm4447103.3.150.dereplication.passed.fna for mgm4447103.3 ... Done\n",
      "Downloading mgm4447103.3.150.dereplication.removed.fna for mgm4447103.3 ... Done\n",
      "Downloading mgm4447103.3.299.screen.passed.fna for mgm4447103.3 ... Done\n",
      "Downloading mgm4447103.3.350.genecalling.faa for mgm4447103.3 ... Done\n",
      "Downloading mgm4447103.3.425.rna.filter.fna for mgm4447103.3 ... Done\n",
      "Downloading mgm4447103.3.440.cluster.rna97.mapping for mgm4447103.3 ... Done\n",
      "Downloading mgm4447103.3.440.cluster.rna97.fna for mgm4447103.3 ... Done\n",
      "Downloading mgm4447103.3.450.rna.sims for mgm4447103.3 ... Done\n",
      "Downloading mgm4447103.3.550.cluster.aa90.mapping for mgm4447103.3 ... Done\n",
      "Downloading mgm4447103.3.550.cluster.aa90.faa for mgm4447103.3 ... Done\n",
      "Downloading mgm4447103.3.650.protein.sims for mgm4447103.3 ... Done\n",
      "Downloading mgm4447103.3.700.annotation.sims.filter.seq for mgm4447103.3 ... Done\n",
      "Downloading mgm4447102.3.050.upload.fna for mgm4447102.3 ... Done\n",
      "Downloading mgm4447102.3.100.preprocess.passed.fna for mgm4447102.3 ... Done\n",
      "Downloading mgm4447102.3.100.preprocess.removed.fna for mgm4447102.3 ... Done\n",
      "Downloading mgm4447102.3.150.dereplication.passed.fna for mgm4447102.3 ... Done\n",
      "Downloading mgm4447102.3.150.dereplication.removed.fna for mgm4447102.3 ... Done\n",
      "Downloading mgm4447102.3.299.screen.passed.fna for mgm4447102.3 ... Done\n",
      "Downloading mgm4447102.3.350.genecalling.faa for mgm4447102.3 ... Done\n",
      "Downloading mgm4447102.3.425.rna.filter.fna for mgm4447102.3 ... Done\n",
      "Downloading mgm4447102.3.440.cluster.rna97.mapping for mgm4447102.3 ... Done\n",
      "Downloading mgm4447102.3.440.cluster.rna97.fna for mgm4447102.3 ... Done\n",
      "Downloading mgm4447102.3.450.rna.sims for mgm4447102.3 ... Done\n",
      "Downloading mgm4447102.3.550.cluster.aa90.mapping for mgm4447102.3 ... Done\n",
      "Downloading mgm4447102.3.550.cluster.aa90.faa for mgm4447102.3 ... Done\n",
      "Downloading mgm4447102.3.650.protein.sims for mgm4447102.3 ... Done\n",
      "Downloading mgm4447102.3.700.annotation.sims.filter.seq for mgm4447102.3 ... Done\n",
      "Downloading mgm4447943.3.050.upload.fna for mgm4447943.3 ... Done\n",
      "Downloading mgm4447943.3.100.preprocess.passed.fna for mgm4447943.3 ... Done\n",
      "Downloading mgm4447943.3.100.preprocess.removed.fna for mgm4447943.3 ... Done\n",
      "Downloading mgm4447943.3.150.dereplication.passed.fna for mgm4447943.3 ... Done\n",
      "Downloading mgm4447943.3.150.dereplication.removed.fna for mgm4447943.3 ... Done\n",
      "Downloading mgm4447943.3.299.screen.passed.fna for mgm4447943.3 ... Done\n",
      "Downloading mgm4447943.3.350.genecalling.faa for mgm4447943.3 ... Done\n",
      "Downloading mgm4447943.3.425.rna.filter.fna for mgm4447943.3 ... Done\n",
      "Downloading mgm4447943.3.440.cluster.rna97.mapping for mgm4447943.3 ... Done\n",
      "Downloading mgm4447943.3.440.cluster.rna97.fna for mgm4447943.3 ... Done\n",
      "Downloading mgm4447943.3.450.rna.sims for mgm4447943.3 ... Done\n",
      "Downloading mgm4447943.3.550.cluster.aa90.mapping for mgm4447943.3 ... Done\n",
      "Downloading mgm4447943.3.550.cluster.aa90.faa for mgm4447943.3 ... Done\n",
      "Downloading mgm4447943.3.650.protein.sims for mgm4447943.3 ... Done\n",
      "Downloading mgm4447943.3.700.annotation.sims.filter.seq for mgm4447943.3 ... Done\n",
      "Downloading mgm4447192.3.050.upload.fna for mgm4447192.3 ... Done\n",
      "Downloading mgm4447192.3.100.preprocess.passed.fna for mgm4447192.3 ... Done\n",
      "Downloading mgm4447192.3.100.preprocess.removed.fna for mgm4447192.3 ... Done\n",
      "Downloading mgm4447192.3.150.dereplication.passed.fna for mgm4447192.3 ... Done\n",
      "Downloading mgm4447192.3.150.dereplication.removed.fna for mgm4447192.3 ... Done\n",
      "Downloading mgm4447192.3.299.screen.passed.fna for mgm4447192.3 ... Done\n",
      "Downloading mgm4447192.3.350.genecalling.faa for mgm4447192.3 ... Done\n",
      "Downloading mgm4447192.3.425.rna.filter.fna for mgm4447192.3 ... Done\n",
      "Downloading mgm4447192.3.440.cluster.rna97.mapping for mgm4447192.3 ... Done\n",
      "Downloading mgm4447192.3.440.cluster.rna97.fna for mgm4447192.3 ... Done\n",
      "Downloading mgm4447192.3.450.rna.sims for mgm4447192.3 ... Done\n",
      "Downloading mgm4447192.3.550.cluster.aa90.mapping for mgm4447192.3 ... Done\n",
      "Downloading mgm4447192.3.550.cluster.aa90.faa for mgm4447192.3 ... Done\n",
      "Downloading mgm4447192.3.650.protein.sims for mgm4447192.3 ... Done\n",
      "Downloading mgm4447192.3.700.annotation.sims.filter.seq for mgm4447192.3 ... Done\n",
      "Downloading mgm4447101.3.050.upload.fna for mgm4447101.3 ... Done\n",
      "Downloading mgm4447101.3.100.preprocess.passed.fna for mgm4447101.3 ... Done\n",
      "Downloading mgm4447101.3.100.preprocess.removed.fna for mgm4447101.3 ... Done\n",
      "Downloading mgm4447101.3.150.dereplication.passed.fna for mgm4447101.3 ... Done\n",
      "Downloading mgm4447101.3.150.dereplication.removed.fna for mgm4447101.3 ... Done\n",
      "Downloading mgm4447101.3.299.screen.passed.fna for mgm4447101.3 ... Done\n",
      "Downloading mgm4447101.3.350.genecalling.faa for mgm4447101.3 ... Done\n",
      "Downloading mgm4447101.3.425.rna.filter.fna for mgm4447101.3 ... Done\n",
      "Downloading mgm4447101.3.440.cluster.rna97.mapping for mgm4447101.3 ... Done\n",
      "Downloading mgm4447101.3.440.cluster.rna97.fna for mgm4447101.3 ... Done\n",
      "Downloading mgm4447101.3.450.rna.sims for mgm4447101.3 ... Done\n",
      "Downloading mgm4447101.3.550.cluster.aa90.mapping for mgm4447101.3 ... Done\n",
      "Downloading mgm4447101.3.550.cluster.aa90.faa for mgm4447101.3 ... Done\n",
      "Downloading mgm4447101.3.650.protein.sims for mgm4447101.3 ... Done\n",
      "Downloading mgm4447101.3.700.annotation.sims.filter.seq for mgm4447101.3 ... Done\n",
      "Downloading mgm4447903.3.050.upload.fna for mgm4447903.3 ... Done\n",
      "Downloading mgm4447903.3.100.preprocess.passed.fna for mgm4447903.3 ... Done\n",
      "Downloading mgm4447903.3.100.preprocess.removed.fna for mgm4447903.3 ... Done\n",
      "Downloading mgm4447903.3.150.dereplication.passed.fna for mgm4447903.3 ... Done\n",
      "Downloading mgm4447903.3.150.dereplication.removed.fna for mgm4447903.3 ... Done\n",
      "Downloading mgm4447903.3.299.screen.passed.fna for mgm4447903.3 ... Done\n",
      "Downloading mgm4447903.3.350.genecalling.faa for mgm4447903.3 ... Done\n",
      "Downloading mgm4447903.3.425.rna.filter.fna for mgm4447903.3 ... Done\n",
      "Downloading mgm4447903.3.440.cluster.rna97.mapping for mgm4447903.3 ... Done\n",
      "Downloading mgm4447903.3.440.cluster.rna97.fna for mgm4447903.3 ... Done\n",
      "Downloading mgm4447903.3.450.rna.sims for mgm4447903.3 ... Done\n",
      "Downloading mgm4447903.3.550.cluster.aa90.mapping for mgm4447903.3 ... Done\n",
      "Downloading mgm4447903.3.550.cluster.aa90.faa for mgm4447903.3 ... Done\n",
      "Downloading mgm4447903.3.650.protein.sims for mgm4447903.3 ... Done\n",
      "Downloading mgm4447903.3.700.annotation.sims.filter.seq for mgm4447903.3 ... Done\n",
      "Downloading mgm4447970.3.050.upload.fna for mgm4447970.3 ... Done\n",
      "Downloading mgm4447970.3.100.preprocess.passed.fna for mgm4447970.3 ... Done\n",
      "Downloading mgm4447970.3.100.preprocess.removed.fna for mgm4447970.3 ... Done\n",
      "Downloading mgm4447970.3.150.dereplication.passed.fna for mgm4447970.3 ... Done\n",
      "Downloading mgm4447970.3.150.dereplication.removed.fna for mgm4447970.3 ... Done\n",
      "Downloading mgm4447970.3.299.screen.passed.fna for mgm4447970.3 ... Done\n",
      "Downloading mgm4447970.3.350.genecalling.faa for mgm4447970.3 ... Done\n",
      "Downloading mgm4447970.3.425.rna.filter.fna for mgm4447970.3 ... Done\n",
      "Downloading mgm4447970.3.440.cluster.rna97.mapping for mgm4447970.3 ... Done\n",
      "Downloading mgm4447970.3.440.cluster.rna97.fna for mgm4447970.3 ... Done\n",
      "Downloading mgm4447970.3.450.rna.sims for mgm4447970.3 ... Done\n",
      "Downloading mgm4447970.3.550.cluster.aa90.mapping for mgm4447970.3 ... Done\n",
      "Downloading mgm4447970.3.550.cluster.aa90.faa for mgm4447970.3 ... Done\n",
      "Downloading mgm4447970.3.650.protein.sims for mgm4447970.3 ... Done\n",
      "Downloading mgm4447970.3.700.annotation.sims.filter.seq for mgm4447970.3 ... Done\n"
     ]
    }
   ],
   "source": [
    "!  mg-download.py --project mgp128"
   ]
  },
  {
   "cell_type": "markdown",
   "metadata": {},
   "source": [
    "### Downloading \"annotated\" sequences"
   ]
  },
  {
   "cell_type": "markdown",
   "metadata": {
    "collapsed": false
   },
   "source": [
    " Invoke the mg-get-sequences-for-\\* scripts with the --help option. "
   ]
  },
  {
   "cell_type": "code",
   "execution_count": 2,
   "metadata": {
    "collapsed": false
   },
   "outputs": [
    {
     "name": "stdout",
     "output_type": "stream",
     "text": [
      "\r\n",
      "NAME\r\n",
      "    mg-get-sequences-for-function\r\n",
      "\r\n",
      "VERSION\r\n",
      "    1\r\n",
      "\r\n",
      "SYNOPSIS\r\n",
      "    mg-get-sequences-for-function [ --help, --user <user>, --passwd <password>, --token <oAuth token>, --id <metagenome id>, --name <function name>, --level <function level>, --source <datasource>, --evalue <evalue negative exponent>, --identity <percent identity>, --length <alignment length> ]\r\n",
      "\r\n",
      "DESCRIPTION\r\n",
      "    Retrieve function annotated sequences for a metagenome filtered by function containing inputted name.\r\n",
      "\r\n",
      "Options:\r\n",
      "  -h, --help           show this help message and exit\r\n",
      "  --id=ID              KBase Metagenome ID\r\n",
      "  --url=URL            communities API url\r\n",
      "  --user=USER          OAuth username\r\n",
      "  --passwd=PASSWD      OAuth password\r\n",
      "  --token=TOKEN        OAuth token\r\n",
      "  --name=NAME          function name to filter by\r\n",
      "  --level=LEVEL        function level to filter by\r\n",
      "  --source=SOURCE      datasource to filter results by, default is Subsystems\r\n",
      "  --evalue=EVALUE      negative exponent value for maximum e-value cutoff, default is 5\r\n",
      "  --identity=IDENTITY  percent value for minimum % identity cutoff, default is 60\r\n",
      "  --length=LENGTH      value for minimum alignment length cutoff, default is 15\r\n",
      "\r\n",
      "Output\r\n",
      "    Tab-delimited list of: m5nr id, dna sequence, semicolon seperated list of annotations, sequence id\r\n",
      "\r\n",
      "EXAMPLES\r\n",
      "    mg-get-sequences-for-function --id \"mgm4441680.3\" --name \"Central carbohydrate metabolism\" --level level2 --source Subsystems --evalue 10\r\n",
      "\r\n",
      "SEE ALSO\r\n",
      "    -\r\n",
      "\r\n",
      "AUTHORS\r\n",
      "    Jared Bischof, Travis Harrison, Folker Meyer, Tobias Paczian, Andreas Wilke\r\n"
     ]
    }
   ],
   "source": [
    "! mg-get-sequences-for-function.py --help"
   ]
  },
  {
   "cell_type": "markdown",
   "metadata": {
    "collapsed": false
   },
   "source": [
    "We want to retrieve all reads from mgm4447903.3 wich are part of the \"Central carbohydrate metabolism\" (see SEED Subsystems)"
   ]
  },
  {
   "cell_type": "code",
   "execution_count": 6,
   "metadata": {
    "collapsed": false
   },
   "outputs": [
    {
     "name": "stdout",
     "output_type": "stream",
     "text": [
      "sequence id\tm5nr id (md5sum)\tdna sequence\tsemicolon separated list of annotations\n",
      "mgm4447903.3|GF8803K02GAMU6\t0007c0e8723384b66f266a60ea8a0219\tATTATAGCAGAGGGAGTGTGGAATGTCATGTATGAACTATTTTTCGCGGATAACTTCGATTTTATATCCATCTAAGTCTTTCACGAAGTAGTAGTTAGCAGGATGTCCTGGTAAACCTTTTAATTCTGTAACGTCATAACCTTTAGCAACGTGTTCAGCGTGAAGAGCTTCTAAGTCTTTAGCACTGATGGCGATATGACCATATCCGTCACCGATTTCGTATGGTCCGTGACCATAGTTATATGTTAATTCTAATTCATAGTCATCTCCTTCAAAAGCGAGATAAGCGATTGTGTAATTTATGTTCTGGGAAGTTCTTTTCTTCTTGTTTACTTTAAAACCGATGCTTCTTCGTAGAACCGAATGCTTTCTTCTAGTATTTTCAACACGGACACAAGTATG\tSS08191\n",
      "mgm4447903.3|GF8803K02HY8OA\t0007c0e8723384b66f266a60ea8a0219\tCAGAACTCATGCGCACACTTAAAAAGTCTCCACAGAGAATCCCCTATCCCTTTTATCTGACACCTTGTGAGTCTCTCTGGACTCCCCTTAAAAGGTTAAATTTGTATTAGTATACTCTTTCAAAGAAAAAAAGTCAAGTAGAAAACGAACATTCTACTTGACTTTACTGGATTATTTTTCACGAATCACTTCGACCTTGTAGCCGTCAGGATCCTTGACAAAGTATAGTTTGGTGGAGTTCCTGGTAGGCCTTTTGGCTCTGTAACCTCATAGCCTTTAGCGCTATGTTCTTGATGTAGGGCCTCAAGGTCAGGTGTACTGAGGGCGATATGGGCAAAACCNTCTCCTACCACGTAAGGGCC\tSS08191\n",
      "mgm4447903.3|GF8803K02G8NLU\t008cdccf3934e97819089dd98e4f8aa0\tCAAGGAAAAGTCGGAGAGAAGCGGCGGCAAGAACGTGCGACGGAAGACGGCGGCGAAAGCGGCAAAGCAGGAGAACGCAGACAAAGAGCGTACAGCGCCCGCAAAGAGCGCACCGCCGCCCAAGCGCGGCAAGGCGGCGCAGCGTGCACGCCGCGTCGCCAAGAAGCGCACGGGGCGTCCTGCGGCACGCTCCAAGAACGGTACAAAGACGAACGCCGGTAGGCGTTCGCATCTCGGCAAACGGTAGTTTTATTGGAACCTGCGAAAGAGCGATGGCTGGCGATGCCGTTGTTCTTTTCTTTTGGGTGGGAACTTTCTTTCACCTTCTCCTCGTTTGCGGCAGGAAATTCGCTTTTTTGACAGAATAAAGGAAGTATGTTCAATATGAAGCGATAAAATCTATGCGCAAAATGGAAGAGGGGGCTTTTTCATGATTGGAATCAAGAATGTCATTGCCATTATCTGTGGTGGCGGGCCAGCGCCCGGTATCAACAGCGTCATTTCCGCCGTGACCATCGA\tSS06164;SS06133\n",
      "mgm4447903.3|GF8803K02G8W2O\t008cdccf3934e97819089dd98e4f8aa0\tCACGGACACATCCGCTACAGCGAGCTCGACTTCGGCGAGATCATCAAACAGGCGGTGCTCGCCGAGACGAAGAAGCTCGGCATCACCATCAGCGTCATCGACAAGGAAATCGGCTACGAGCTGCGCTGCACGGCGCCGATCGCCTATGATATCGACTACTGCCGCTCGCTCGGCTACTCCGCCGTCAAGTTCCTCATGCAGGGCGACACGGGCGCGATCATCACGATCCAGGACAATCAGGCGGTGCCGATGCGCTTCGACGAGATTCGCGACCCCGAGACGGGCAAGACGAAGGTGCGCAAGGTCAACATCGGCTCCGTCCACTACCGTATCGCGCGCGGTTTCATGATGCGTCTCGAAAAGGGCGACCTCGACGATCCGGGACTTGCGAATGCCTACCGCATGACGCAGGAGGAGTTCAAGGAACGCTACTCCTATCTCTTTGACGGCGACGCCACAGAGTAATTT\tSS06164;SS06133\n",
      "mgm4447903.3|GF8803K02GIF4Y\t008cdccf3934e97819089dd98e4f8aa0\tTCCCATACGCGCGGAAGGAGGCGGGAAAGACTGTCACAAACCTCGGACGACGCAGCAGAAAACGTCCTTGAATCCGTACCTGCGGAAAACTGTCACCATGAATGACGACCCTATGCGGAACCAAAATTTTTCACAGAGAAGGAAAACATTCCACCTCGTCGAATTTATATAAAGTACAGACAATTCCAAAAAGGAGGCGGATTTCATGATTGGTATCAAGAATGTGATTGCGATTATCTGCGGAGGCGGCCCCGCGCCCGGCATCAACAGTGTTATCTCCGCAGTTACCAGTGAGGCGACGCGCCATGGCTGGGATGTACTCGGCATTTACGACGGATTCTCGCGGCTCGCGCGCGGCGAGAAGACTATGTGCGCCTCGAGACGGCGAACATCAGCCGCATCCATCTGACCGGAGGCTGCATCCTCAAGATGTCGTCGTTTTAATCCGACGAAGAAGGAATCCGATCTCCGTACCGTCGTCGAGACGCTTACGGAACTCGGCGTTACCCATCG\tSS06164;SS06133\n",
      "mgm4447903.3|GF8803K02H1UQ8\t008cdccf3934e97819089dd98e4f8aa0\tCAAGGAAAGTCGGAGAGAGCGGCGGCAAGAACGTGCGACGGAAGACGGCGGCGAAAGCGGCAAAAGCAGGAGAACGCAGACAAAGAGCGTACAGCGCCCGCAAAGAGCGCACCGCCGCCCAAGCGCGGCAAGGCGGCGCAGCGTGCACGCCGCGTCGCCAAGAAGCGCACGGGGCGTCCTGCGGCACGCTCCAAGAACGGTACAAAGACGAACGCCGGTAGGCGTTCGCATCTCGGCAAACGGTGTTTTATTGGAACCTGCGAAAGAGCGATGGCTGGCGATGCCGTTGTTCTTTTCTTTTGGGTGGGAACTTTCTTTCACCTTCTCCTCGTTTGCGGCAGGAAATTCGCTTTTTTGACAGAATAAAGGAAGTATGTTCAATATGAAGCGATAAAATCTATGCGCAAAATGGAAGAGGGGGCTTTTTCATGATTGGAATCAAGAATGTCATTGCCATTATCTGTGGTGGCGGGCCAGCGCCCGGTATCAACAGCGTCATTTCCGCCGTGACCATCGA\tSS06164;SS06133\n",
      "mgm4447903.3|GF8803K02HJIX9\t008cdccf3934e97819089dd98e4f8aa0\tAGCCCCGGATCGTCGAGGTCGCCCTTCTCAATGCGCATCATAAAGCCGCGCGCAATGCGGTAGTGTACGGAATCGATGTTGACCTTGCGCACCTTCGTCTTGCCCGTCTCTGGGTCACGGATCTCATCGAACCGCATCGGCACAGCCTGGTTGTCCTGGATGGTGATGATCGCGCCTGAGTCGCCGCTCATCAGGAACTTCACGGCAGAGTAGCCAAGCGAGCGGCAATAGTCAATGTCGTATGCGATCGGAGCCGTGCAGCGCAGTTCGTAGCCGATCTCCTTGTCAATGATGGTGAGGGCAATGCCGAGCTTCTTCGTCTCGGCGAGCACTGCCTGCTTGAGGATCTCGCCGAAGTCCAGCTCGCTGTAACGAATGTGTCCGTGCTCATCGGTAACGACACTGCCGAGCTTTGCGAATCCTCCTCCGCGATCTTTCATGACGCCCTCGGCGACG\tSS06164;SS06133\n",
      "mgm4447903.3|GF8803K02HLG35\t008cdccf3934e97819089dd98e4f8aa0\tTCCAACACGCCCTCGGCAATAACGGCCACACCAAAGGTACGGCCCATGCGATAGCGCTTCATCACCGAACCGACGATGATGTCCACCACTTCCTGCAAGGCGATCTTCGGCTTATGGAATTCTTCGGGAATGATCGTCAGCACCGCCCCGGAGGAACGGCCGATTCCCAGCGCCAAGTGTCCGGCGGTCCGCCCCATAGCGATGACAAGATACCAACGATTCATCATGGTGCGGGCGTCTTCCACCAGATTCTGCACCTCCACCGCGCCGAACTGCCGCGCCGTCTCAAAGCCAAAGGTAGGAACGCCCTCGGGAAGAGGCAGATCGTTGTCAATGGTCTTCGGCACATGAACGACACGAATCGACCGGCCATGCTCTTTCGCGTACTGGGCCACCGCCGCTGCGCTGTGCGCCGTATCGTCGCCGCCGATGGTGACAAGATGGGTGACGCCCAATTCCAGCAGCGTCTCCACCACGGCCTGTAAATCTTCCGCCTTCTTCGT\tSS06164;SS06133\n",
      "mgm4447903.3|GF8803K02HVUTW\t008cdccf3934e97819089dd98e4f8aa0\tGACAATCAGGCTGTACCCATGCGCTTTGACGAGATCCGCGACCCCGAGACGGGCAAGACGAAGGTGCGCAAGGTCAACATCAACTCCGTGCACTATCAGATTGCGCGCGGCTTCATGATGCGTCTCGAAAAGGGCGACCTTGACGATCCGGGGCTTGCAAATGCCTACCGCATGACGCACGACGAGTTCAAGGAGCGCTATGCCTACCTCTTTGACGGCGACGCCGCCGAATAACATAGAGATGCAACACGATGGAGCAGAAAAATTCTGCTCCATTTTTCTATTTAGGGTATTGACGGGATGTCTCCTTTGTCGTATAATATCGTCTTGTTAGCGCAGTGCGCTTGAGGTTATCGCGGGGTGGAGCAGTCGGTAGCTCGTCGGGCTCATAACCCGAGGTCACAGGTTCAAGTCCTGTCCCCG\tSS06164;SS06133\n",
      "mgm4447903.3|GF8803K02FK0JA\t0070700424093f33d7a9a54e60a3d29a\tAGCACATTGAGGAATTCGTTCGTGNTGGAGCAGATATTATCACAATCCACGTAGAAGCAACTCCTCATATCCATGGTGCTCTCCAACAAATCCGTGCCGCAGGAGTAAAAGCAGGTGTTGTAATCAATCCGGGCACTCCGGTTCAAGCGATTAAGCATGTCTTAGGCTTGGTAGACCAAGTCTTGGTGATGACTGTGAATCCTTGGTTTT\tSS09041\n",
      "mgm4447903.3|GF8803K02IYGAA\t0070700424093f33d7a9a54e60a3d29a\tTTGTTCTTGTTCCCGAAGGCTCGCTAACTCACTAACTTTAACCAAGGTCTCAGGTAGAAAGGCTTGTCCGCCAAAACCAGGATTCACAGTCATCACCAAGACTTGGTCTACCAAGCCTAAGACATGCTTAATCGCTTGAACCGGAGTGCCCGGATTGATTACAACACCTGCTTTTACTCCTGCGGCACGGATTTGTTGGAGAGCACCATGGATATGAGGAGTTGCTTCTACGTGGATTGTGATAATATCTGCTCCAGCACGAACGAATTCCTCAATGTGCTTTTTCAGGATTTGTAACCATCAGATGACAGTCAAACACTAATTTGCTATGCGGACGCATACTAGACTACAACACCCGCTCCAAAGGTGATATTAGGCAACAAAGGT\tSS09041\n",
      "mgm4447903.3|GF8803K02F5F0Z\t00868f3c929c8e663d05ac4d2c0bf8b6\tAACAGTTGTCCGTGTTGACAAACCGCGCAAGAATGTGATCATTCCTACTTTGGAAGAAGACCTTGACGGACTTGGTTACCTTCAAGGAAAAGACGTTGACTTTGTAAATAAAAAGCGACTGACGGTGTTCTTCTTGCCCACACTGACGGTGATGTACCAAACATGTACGTGACTCTTCCTGAGCAAGATGCCTTCACTCTTGGCTACACTATCTACTTCTTCGAATTGGCCATCGCCCTTTCAGGTTACTTGAATGCCATCAACCCATTTGACCAACCAGGTGTTGAAGCCTACAAACGCAACATGTTTGCCCTTCTTGGAAAACCAGGATTTGAAGAATTGAGCAAAGAGCTTAACGCACGTTTATAATAGAAGAAAAGAGTGGCTTGCCCACTCTTTTTACTCTCTTTATTCGTAGACATTGGACTCAGGCGAGACTTGTGATATAATATAGAAAGCAAAAAGGCAGACGCCTAGAGACTTTATAGGAGGAACTANGTCAAAAGATATCCGCGTACGCTACGCACCAA\tSS06144;SS06174\n",
      "mgm4447903.3|GF8803K02FMFTS\t00868f3c929c8e663d05ac4d2c0bf8b6\tGGGAAAGACCAAAAAGGTATTTACCCAACTCAGCAAACTTCTCAACTGACTTGCACTCATTGGGTCAATTTATCCAAGAAGGAACTCGTATCATGTTTGAAACAGTTGTCCGTGTTGACAAACCACGTAAGAACGTGATTATCCCTACTTTGGAAGAAGACCTTGATGGACTTGGTTACCTTCAAGGAAAAGACGTTGACTTTGTAAACAAAAAAGCAACTGACGGTGTTCTTCTTGCCCACACTGACGGTGATGTGCCAAACATGTACGTGACTCTTCCAGAGCAAGACGCTTTCACTCTTGGTTACACTATCTACTTCTTCGAATTGGCAATTGCCCTTTCAGGTTACTTGAATGCCATCAACCCATTTGACCAACCAGGTGTTGAAGCCTACAAACGCAACATGTTTGCCCTTCTTGG\tSS06144;SS06174\n",
      "mgm4447903.3|GF8803K02FZ63L\t00868f3c929c8e663d05ac4d2c0bf8b6\tAGACTTGCACTCACTTGGTCAATTTATCCAAGAAGGAACTCGTATCATGTTTGAAACAGTTGTCCGTGTTGACAAACCACGTAAGAACGTGATTATCCCTAGCTTGGAAGAAGATCTTGACGGACTTGGTTACCTTCAAGGAAAAGACGTTGACTTTGTAAACAAAAAAGCAACTGACGGTGTTCTTCTTGCCCATACAGACGGTGACGTACCAAATATGTATGTGACTCTTCCAGAGCAAGATGCCTTCACTCTTGGCTACACTATCTACTTCTTCGAATTGGCAATCGCCCTTTCAGGTTACTTGAATGCCATCAACCCATTTGACCAACCAGGTGTTGAAGCCTACAAGCGTAACATGTTTGCCCTTCTTGGGAAACCAGGATTTGAAGAATTGAGCAAAGAGCTTAACGCACGTCTATAATAGAAGAAAAGAGTGGCTTGACCACTTCTTTTTACTCTCTTTATTTCTAGACATTGGACTCAGGCGAGACTTGTGATAT\tSS06144;SS06174\n"
     ]
    }
   ],
   "source": [
    "! mg-get-sequences-for-function.py --id \"mgm4447903.3\" --name \"Central carbohydrate metabolism\" --level level2 --source Subsystems --evalue 10 2>>error.log | head -n 15  "
   ]
  },
  {
   "cell_type": "code",
   "execution_count": null,
   "metadata": {
    "collapsed": true
   },
   "outputs": [],
   "source": []
  }
 ],
 "metadata": {
  "kernelspec": {
   "display_name": "Python 2",
   "language": "python",
   "name": "python2"
  },
  "language_info": {
   "codemirror_mode": {
    "name": "ipython",
    "version": 2
   },
   "file_extension": ".py",
   "mimetype": "text/x-python",
   "name": "python",
   "nbconvert_exporter": "python",
   "pygments_lexer": "ipython2",
   "version": "2.7.8"
  }
 },
 "nbformat": 4,
 "nbformat_minor": 0
}

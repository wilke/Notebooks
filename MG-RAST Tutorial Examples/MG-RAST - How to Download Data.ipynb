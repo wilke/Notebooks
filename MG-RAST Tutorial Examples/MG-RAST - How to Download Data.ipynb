{
 "cells": [
  {
   "cell_type": "markdown",
   "metadata": {},
   "source": [
    "# Data Retrieval "
   ]
  },
  {
   "cell_type": "markdown",
   "metadata": {},
   "source": [
    "In this section we are describing how to find and download data products created during computation. Data can be downloaded for an individual metagenome or per project."
   ]
  },
  {
   "cell_type": "markdown",
   "metadata": {},
   "source": [
    "We destinguish between precomputed and on demand data. Precomputed data available for download are all (intermediate) pipeline products including sequence similarities. On demand date are for example reads annotated with function or organisms for a given name/annotation space (e.g. SEED or RefSeq)."
   ]
  },
  {
   "cell_type": "markdown",
   "metadata": {},
   "source": [
    "##### Example Data"
   ]
  },
  {
   "cell_type": "markdown",
   "metadata": {},
   "source": [
    "We are using data from the MG-RAST project <a href=\"http://metagenomics.anl.gov/linkin.cgi?project=128\">The oral metagenome in health and disease</a> (mgp128). The project includes 8 samples from the oral cavity of humans."
   ]
  },
  {
   "cell_type": "markdown",
   "metadata": {},
   "source": [
    "\n",
    "MG-RAST ID | Metagenome Name |bp Count | Sequence Count\t| Biome\t| Sequence Type | Sequence Method\n",
    "---------- | --------------- |-------- | -------------- | ----- | ------------- | ---------------\n",
    "4447943.3|\tCA_04P |\t142,374,233|\t339,503|\t\thuman-associated habitat|\t\tWGS|\t454\n",
    "4447192.3|\tNOCA_01P |\t77,538,485 |\t204,218|\t\thuman-associated habitat|\t\tWGS|\t454\n",
    "4447103.3|\tCA1_01P |\t203,711,161|\t464,594|\t\thuman-associated habitat|\t\tWGS|\t454\n",
    "4447102.3|\tNOCA_03P|\t100,125,112|\t244,881|\t\thuman-associated habitat|\t\tWGS|\t454\n",
    "4447101.3|\tCA1_02P |\t129,851,692|\t295,072|\t\thuman-associated habitat|\t\tWGS|\t454\n",
    "4447971.3|\tCA_06_1.6 |\t37,519,874 |\t97,722 |\t\thuman-associated habitat|\t\tWGS|\t454\n",
    "4447970.3|\tCA_05_4.6 |\t27,669,924 |\t70,503 |\t\thuman-associated habitat|\t\tWGS|\t454\n",
    "4447903.3|\tCA_06P |\t123,266,763|\t306,740|\t\thuman-associated habitat|\t\tWGS|\t454"
   ]
  },
  {
   "cell_type": "markdown",
   "metadata": {},
   "source": [
    "##### Setup environment"
   ]
  },
  {
   "cell_type": "code",
   "execution_count": 13,
   "metadata": {
    "collapsed": false
   },
   "outputs": [
    {
     "data": {
      "text/plain": [
       "['',\n",
       " '/Library/Frameworks/Python.framework/Versions/2.7/lib/python2.7/site-packages/setuptools-5.4.1-py2.7.egg',\n",
       " '/Library/Frameworks/Python.framework/Versions/2.7/lib/python27.zip',\n",
       " '/Library/Frameworks/Python.framework/Versions/2.7/lib/python2.7',\n",
       " '/Library/Frameworks/Python.framework/Versions/2.7/lib/python2.7/plat-darwin',\n",
       " '/Library/Frameworks/Python.framework/Versions/2.7/lib/python2.7/plat-mac',\n",
       " '/Library/Frameworks/Python.framework/Versions/2.7/lib/python2.7/plat-mac/lib-scriptpackages',\n",
       " '/Library/Frameworks/Python.framework/Versions/2.7/lib/python2.7/lib-tk',\n",
       " '/Library/Frameworks/Python.framework/Versions/2.7/lib/python2.7/lib-old',\n",
       " '/Library/Frameworks/Python.framework/Versions/2.7/lib/python2.7/lib-dynload',\n",
       " '/Library/Frameworks/Python.framework/Versions/2.7/lib/python2.7/site-packages',\n",
       " '/Library/Python/2.7/site-packages',\n",
       " '/Library/Frameworks/Python.framework/Versions/2.7/lib/python2.7/site-packages/IPython/extensions',\n",
       " '/Users/Andi/.ipython']"
      ]
     },
     "execution_count": 13,
     "metadata": {},
     "output_type": "execute_result"
    }
   ],
   "source": [
    "sys.path"
   ]
  },
  {
   "cell_type": "code",
   "execution_count": 21,
   "metadata": {
    "collapsed": false
   },
   "outputs": [],
   "source": [
    "os.environ['PYTHONPATH'] = ':'.join( sys.path + [\"/Users/Andi/Development/MG-RAST-Repo/MG-RAST-Tools/tools/lib\" ])"
   ]
  },
  {
   "cell_type": "code",
   "execution_count": 22,
   "metadata": {
    "collapsed": false
   },
   "outputs": [
    {
     "ename": "ImportError",
     "evalue": "No module named mglib",
     "output_type": "error",
     "traceback": [
      "\u001b[0;31m---------------------------------------------------------------------------\u001b[0m",
      "\u001b[0;31mImportError\u001b[0m                               Traceback (most recent call last)",
      "\u001b[0;32m<ipython-input-22-4a83e846bfb4>\u001b[0m in \u001b[0;36m<module>\u001b[0;34m()\u001b[0m\n\u001b[0;32m----> 1\u001b[0;31m \u001b[0;32mfrom\u001b[0m \u001b[0mmglib\u001b[0m \u001b[0;32mimport\u001b[0m \u001b[0;34m*\u001b[0m\u001b[0;34m\u001b[0m\u001b[0m\n\u001b[0m",
      "\u001b[0;31mImportError\u001b[0m: No module named mglib"
     ]
    }
   ],
   "source": [
    "from mglib import *"
   ]
  },
  {
   "cell_type": "markdown",
   "metadata": {},
   "source": [
    "### Downloading input and intermediate data products"
   ]
  },
  {
   "cell_type": "code",
   "execution_count": 20,
   "metadata": {
    "collapsed": false
   },
   "outputs": [
    {
     "name": "stderr",
     "output_type": "stream",
     "text": [
      "ERROR: File `u'mg-inbox.py'` not found.\n"
     ]
    }
   ],
   "source": [
    "%run /Users/Andi/Development/MG-RAST-Repo/MG-RAST-Tools/tools/bin/mg-inbox.py --help"
   ]
  },
  {
   "cell_type": "code",
   "execution_count": 18,
   "metadata": {
    "collapsed": false
   },
   "outputs": [
    {
     "data": {
      "text/plain": [
       "':/Library/Frameworks/Python.framework/Versions/2.7/lib/python2.7/site-packages/setuptools-5.4.1-py2.7.egg:/Library/Frameworks/Python.framework/Versions/2.7/lib/python27.zip:/Library/Frameworks/Python.framework/Versions/2.7/lib/python2.7:/Library/Frameworks/Python.framework/Versions/2.7/lib/python2.7/plat-darwin:/Library/Frameworks/Python.framework/Versions/2.7/lib/python2.7/plat-mac:/Library/Frameworks/Python.framework/Versions/2.7/lib/python2.7/plat-mac/lib-scriptpackages:/Library/Frameworks/Python.framework/Versions/2.7/lib/python2.7/lib-tk:/Library/Frameworks/Python.framework/Versions/2.7/lib/python2.7/lib-old:/Library/Frameworks/Python.framework/Versions/2.7/lib/python2.7/lib-dynload:/Library/Frameworks/Python.framework/Versions/2.7/lib/python2.7/site-packages:/Library/Python/2.7/site-packages:/Library/Frameworks/Python.framework/Versions/2.7/lib/python2.7/site-packages/IPython/extensions:/Users/Andi/.ipython:/Users/Andi/Development/MG-RAST-Repo/MG-RAST-Tools/tools/lib'"
      ]
     },
     "execution_count": 18,
     "metadata": {},
     "output_type": "execute_result"
    }
   ],
   "source": [
    "os.environ['PYTHONPATH']"
   ]
  },
  {
   "cell_type": "code",
   "execution_count": 17,
   "metadata": {
    "collapsed": false
   },
   "outputs": [
    {
     "name": "stdout",
     "output_type": "stream",
     "text": [
      "USAGEPOD.pm         aplotter.py         group_stats_plot.r  mglib.pm            mglib.pyc           plot_mg_heatdend.r  plot_mg_pcoa_v2.r   rename_columns.r\r\n",
      "__init__.py         aplotter.pyc        mg_calculate_fdr.r  mglib.py            plot_mg_boxplot.r   plot_mg_pcoa.r      preprocessing.r\r\n"
     ]
    }
   ],
   "source": [
    "ls /Users/Andi/Development/MG-RAST-Repo/MG-RAST-Tools/tools/lib"
   ]
  },
  {
   "cell_type": "markdown",
   "metadata": {},
   "source": [
    "### Downloading \"annotated\" sequences"
   ]
  },
  {
   "cell_type": "code",
   "execution_count": null,
   "metadata": {
    "collapsed": true
   },
   "outputs": [],
   "source": []
  },
  {
   "cell_type": "code",
   "execution_count": null,
   "metadata": {
    "collapsed": true
   },
   "outputs": [],
   "source": []
  }
 ],
 "metadata": {
  "kernelspec": {
   "display_name": "Python 2",
   "language": "python",
   "name": "python2"
  },
  "language_info": {
   "codemirror_mode": {
    "name": "ipython",
    "version": 2
   },
   "file_extension": ".py",
   "mimetype": "text/x-python",
   "name": "python",
   "nbconvert_exporter": "python",
   "pygments_lexer": "ipython2",
   "version": "2.7.8"
  }
 },
 "nbformat": 4,
 "nbformat_minor": 0
}
